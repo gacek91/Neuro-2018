{
 "cells": [
  {
   "cell_type": "code",
   "execution_count": 2,
   "metadata": {},
   "outputs": [
    {
     "data": {
      "text/plain": [
       "10"
      ]
     },
     "execution_count": 2,
     "metadata": {},
     "output_type": "execute_result"
    }
   ],
   "source": [
    "# dodawanie\n",
    "3 + 7"
   ]
  },
  {
   "cell_type": "code",
   "execution_count": 4,
   "metadata": {},
   "outputs": [
    {
     "data": {
      "text/plain": [
       "-5"
      ]
     },
     "execution_count": 4,
     "metadata": {},
     "output_type": "execute_result"
    }
   ],
   "source": [
    "# odejmowanie\n",
    "2 - 7"
   ]
  },
  {
   "cell_type": "code",
   "execution_count": 5,
   "metadata": {},
   "outputs": [
    {
     "data": {
      "text/plain": [
       "24"
      ]
     },
     "execution_count": 5,
     "metadata": {},
     "output_type": "execute_result"
    }
   ],
   "source": [
    "#mnożenie\n",
    "4 * 6"
   ]
  },
  {
   "cell_type": "code",
   "execution_count": 6,
   "metadata": {},
   "outputs": [
    {
     "data": {
      "text/plain": [
       "3.0"
      ]
     },
     "execution_count": 6,
     "metadata": {},
     "output_type": "execute_result"
    }
   ],
   "source": [
    "#dzielenie\n",
    "9 / 3"
   ]
  },
  {
   "cell_type": "code",
   "execution_count": 11,
   "metadata": {},
   "outputs": [
    {
     "data": {
      "text/plain": [
       "64"
      ]
     },
     "execution_count": 11,
     "metadata": {},
     "output_type": "execute_result"
    }
   ],
   "source": [
    "#potęgowanie\n",
    "8 ** 2"
   ]
  },
  {
   "cell_type": "code",
   "execution_count": 7,
   "metadata": {
    "collapsed": true
   },
   "outputs": [],
   "source": [
    "x = 10"
   ]
  },
  {
   "cell_type": "code",
   "execution_count": 12,
   "metadata": {},
   "outputs": [
    {
     "name": "stdout",
     "output_type": "stream",
     "text": [
      "Prezes jest moim szczęściem\n"
     ]
    }
   ],
   "source": [
    "print('Prezes jest moim szczęściem')"
   ]
  },
  {
   "cell_type": "code",
   "execution_count": 8,
   "metadata": {},
   "outputs": [
    {
     "data": {
      "text/plain": [
       "10"
      ]
     },
     "execution_count": 8,
     "metadata": {},
     "output_type": "execute_result"
    }
   ],
   "source": [
    "x"
   ]
  },
  {
   "cell_type": "code",
   "execution_count": 9,
   "metadata": {
    "scrolled": true
   },
   "outputs": [
    {
     "name": "stdout",
     "output_type": "stream",
     "text": [
      "10\n"
     ]
    }
   ],
   "source": [
    "print(x)"
   ]
  },
  {
   "cell_type": "code",
   "execution_count": 14,
   "metadata": {
    "collapsed": true
   },
   "outputs": [],
   "source": [
    "rocznik = 1991"
   ]
  },
  {
   "cell_type": "code",
   "execution_count": 15,
   "metadata": {},
   "outputs": [
    {
     "data": {
      "text/plain": [
       "1991"
      ]
     },
     "execution_count": 15,
     "metadata": {},
     "output_type": "execute_result"
    }
   ],
   "source": [
    "rocznik"
   ]
  },
  {
   "cell_type": "code",
   "execution_count": 16,
   "metadata": {},
   "outputs": [
    {
     "name": "stdout",
     "output_type": "stream",
     "text": [
      "1991\n"
     ]
    }
   ],
   "source": [
    "print(rocznik)"
   ]
  },
  {
   "cell_type": "code",
   "execution_count": 17,
   "metadata": {
    "collapsed": true
   },
   "outputs": [],
   "source": [
    "teraz = 2018"
   ]
  },
  {
   "cell_type": "code",
   "execution_count": 18,
   "metadata": {},
   "outputs": [
    {
     "data": {
      "text/plain": [
       "2018"
      ]
     },
     "execution_count": 18,
     "metadata": {},
     "output_type": "execute_result"
    }
   ],
   "source": [
    "teraz"
   ]
  },
  {
   "cell_type": "code",
   "execution_count": 19,
   "metadata": {
    "collapsed": true
   },
   "outputs": [],
   "source": [
    "ile_lat = teraz - rocznik"
   ]
  },
  {
   "cell_type": "code",
   "execution_count": 20,
   "metadata": {},
   "outputs": [
    {
     "name": "stdout",
     "output_type": "stream",
     "text": [
      "27\n"
     ]
    }
   ],
   "source": [
    "print(ile_lat)"
   ]
  },
  {
   "cell_type": "code",
   "execution_count": 22,
   "metadata": {},
   "outputs": [
    {
     "data": {
      "text/plain": [
       "int"
      ]
     },
     "execution_count": 22,
     "metadata": {},
     "output_type": "execute_result"
    }
   ],
   "source": [
    "type(ile_lat)"
   ]
  },
  {
   "cell_type": "code",
   "execution_count": 23,
   "metadata": {
    "collapsed": true
   },
   "outputs": [],
   "source": [
    "zarobki = 5.50"
   ]
  },
  {
   "cell_type": "code",
   "execution_count": 24,
   "metadata": {},
   "outputs": [
    {
     "data": {
      "text/plain": [
       "5.5"
      ]
     },
     "execution_count": 24,
     "metadata": {},
     "output_type": "execute_result"
    }
   ],
   "source": [
    "zarobki"
   ]
  },
  {
   "cell_type": "code",
   "execution_count": 26,
   "metadata": {},
   "outputs": [
    {
     "name": "stdout",
     "output_type": "stream",
     "text": [
      "5.5\n"
     ]
    }
   ],
   "source": [
    "print(zarobki)"
   ]
  },
  {
   "cell_type": "code",
   "execution_count": 25,
   "metadata": {},
   "outputs": [
    {
     "data": {
      "text/plain": [
       "float"
      ]
     },
     "execution_count": 25,
     "metadata": {},
     "output_type": "execute_result"
    }
   ],
   "source": [
    "type(zarobki)"
   ]
  },
  {
   "cell_type": "code",
   "execution_count": 27,
   "metadata": {
    "collapsed": true
   },
   "outputs": [],
   "source": [
    "werdykt = 'To są marne zarobki'"
   ]
  },
  {
   "cell_type": "code",
   "execution_count": 28,
   "metadata": {},
   "outputs": [
    {
     "data": {
      "text/plain": [
       "'To są marne zarobki'"
      ]
     },
     "execution_count": 28,
     "metadata": {},
     "output_type": "execute_result"
    }
   ],
   "source": [
    "werdykt"
   ]
  },
  {
   "cell_type": "code",
   "execution_count": 29,
   "metadata": {},
   "outputs": [
    {
     "data": {
      "text/plain": [
       "str"
      ]
     },
     "execution_count": 29,
     "metadata": {},
     "output_type": "execute_result"
    }
   ],
   "source": [
    "type(werdykt)"
   ]
  },
  {
   "cell_type": "code",
   "execution_count": 30,
   "metadata": {},
   "outputs": [
    {
     "data": {
      "text/plain": [
       "'To są marne zarobkiTo są marne zarobki'"
      ]
     },
     "execution_count": 30,
     "metadata": {},
     "output_type": "execute_result"
    }
   ],
   "source": [
    "werdykt + werdykt"
   ]
  },
  {
   "cell_type": "code",
   "execution_count": 31,
   "metadata": {},
   "outputs": [
    {
     "data": {
      "text/plain": [
       "'To są marne zarobki Panie Prezesie'"
      ]
     },
     "execution_count": 31,
     "metadata": {},
     "output_type": "execute_result"
    }
   ],
   "source": [
    "werdykt + ' Panie Prezesie'"
   ]
  },
  {
   "cell_type": "code",
   "execution_count": 32,
   "metadata": {},
   "outputs": [
    {
     "name": "stdout",
     "output_type": "stream",
     "text": [
      "Urodziłem się w 1991\n"
     ]
    }
   ],
   "source": [
    "print('Urodziłem się w', rocznik)"
   ]
  },
  {
   "cell_type": "code",
   "execution_count": 33,
   "metadata": {},
   "outputs": [
    {
     "data": {
      "text/plain": [
       "'To są marne zarobki'"
      ]
     },
     "execution_count": 33,
     "metadata": {},
     "output_type": "execute_result"
    }
   ],
   "source": [
    "werdykt"
   ]
  },
  {
   "cell_type": "code",
   "execution_count": 34,
   "metadata": {},
   "outputs": [
    {
     "name": "stdout",
     "output_type": "stream",
     "text": [
      "To są marne zarobki\n"
     ]
    }
   ],
   "source": [
    "print(werdykt)"
   ]
  },
  {
   "cell_type": "code",
   "execution_count": 35,
   "metadata": {},
   "outputs": [
    {
     "data": {
      "text/plain": [
       "1991"
      ]
     },
     "execution_count": 35,
     "metadata": {},
     "output_type": "execute_result"
    }
   ],
   "source": [
    "rocznik"
   ]
  },
  {
   "cell_type": "code",
   "execution_count": 36,
   "metadata": {},
   "outputs": [
    {
     "name": "stdout",
     "output_type": "stream",
     "text": [
      "1991\n"
     ]
    }
   ],
   "source": [
    "print(rocznik)"
   ]
  },
  {
   "cell_type": "code",
   "execution_count": 37,
   "metadata": {},
   "outputs": [
    {
     "ename": "TypeError",
     "evalue": "must be str, not float",
     "output_type": "error",
     "traceback": [
      "\u001b[0;31m---------------------------------------------------------------------------\u001b[0m",
      "\u001b[0;31mTypeError\u001b[0m                                 Traceback (most recent call last)",
      "\u001b[0;32m<ipython-input-37-fbd369cb6477>\u001b[0m in \u001b[0;36m<module>\u001b[0;34m()\u001b[0m\n\u001b[0;32m----> 1\u001b[0;31m \u001b[0minfo\u001b[0m \u001b[0;34m=\u001b[0m \u001b[0;34m'Zarabiam na rękę'\u001b[0m \u001b[0;34m+\u001b[0m \u001b[0mzarobki\u001b[0m\u001b[0;34m\u001b[0m\u001b[0m\n\u001b[0m",
      "\u001b[0;31mTypeError\u001b[0m: must be str, not float"
     ]
    }
   ],
   "source": [
    "info = 'Zarabiam na rękę' + zarobki"
   ]
  },
  {
   "cell_type": "code",
   "execution_count": 38,
   "metadata": {},
   "outputs": [
    {
     "data": {
      "text/plain": [
       "5.5"
      ]
     },
     "execution_count": 38,
     "metadata": {},
     "output_type": "execute_result"
    }
   ],
   "source": [
    "zarobki"
   ]
  },
  {
   "cell_type": "code",
   "execution_count": 39,
   "metadata": {},
   "outputs": [
    {
     "data": {
      "text/plain": [
       "'5.5'"
      ]
     },
     "execution_count": 39,
     "metadata": {},
     "output_type": "execute_result"
    }
   ],
   "source": [
    "str(zarobki)"
   ]
  },
  {
   "cell_type": "code",
   "execution_count": 42,
   "metadata": {
    "collapsed": true
   },
   "outputs": [],
   "source": [
    "info = 'Zarabiam na rękę ' + str(zarobki)"
   ]
  },
  {
   "cell_type": "code",
   "execution_count": 43,
   "metadata": {},
   "outputs": [
    {
     "data": {
      "text/plain": [
       "'Zarabiam na rękę 5.5'"
      ]
     },
     "execution_count": 43,
     "metadata": {},
     "output_type": "execute_result"
    }
   ],
   "source": [
    "info"
   ]
  },
  {
   "cell_type": "code",
   "execution_count": 44,
   "metadata": {
    "collapsed": true
   },
   "outputs": [],
   "source": [
    "wiek_info = 'Mam {} lat'.format(ile_lat)"
   ]
  },
  {
   "cell_type": "code",
   "execution_count": 45,
   "metadata": {},
   "outputs": [
    {
     "data": {
      "text/plain": [
       "'Mam 27 lat'"
      ]
     },
     "execution_count": 45,
     "metadata": {},
     "output_type": "execute_result"
    }
   ],
   "source": [
    "wiek_info"
   ]
  },
  {
   "cell_type": "code",
   "execution_count": 107,
   "metadata": {
    "collapsed": true
   },
   "outputs": [],
   "source": [
    "monolog = 'Niby jestem stary. \\\n",
    "Urodziłem się w {} i mam {} lat,\\\n",
    "ale wciąż zarabiam {} na godzinę.'.format(rocznik,\n",
    "                                         ile_lat,\n",
    "                                         zarobki)"
   ]
  },
  {
   "cell_type": "code",
   "execution_count": 108,
   "metadata": {},
   "outputs": [
    {
     "data": {
      "text/plain": [
       "'Niby jestem stary. Urodziłem się w 1991 i mam 27 lat,ale wciąż zarabiam 5.5 na godzinę.'"
      ]
     },
     "execution_count": 108,
     "metadata": {},
     "output_type": "execute_result"
    }
   ],
   "source": [
    "monolog"
   ]
  },
  {
   "cell_type": "code",
   "execution_count": 48,
   "metadata": {
    "collapsed": true
   },
   "outputs": [],
   "source": [
    "numer = '300'"
   ]
  },
  {
   "cell_type": "code",
   "execution_count": 49,
   "metadata": {},
   "outputs": [
    {
     "ename": "TypeError",
     "evalue": "must be str, not int",
     "output_type": "error",
     "traceback": [
      "\u001b[0;31m---------------------------------------------------------------------------\u001b[0m",
      "\u001b[0;31mTypeError\u001b[0m                                 Traceback (most recent call last)",
      "\u001b[0;32m<ipython-input-49-bd3cd22b1a67>\u001b[0m in \u001b[0;36m<module>\u001b[0;34m()\u001b[0m\n\u001b[0;32m----> 1\u001b[0;31m \u001b[0mnumer\u001b[0m \u001b[0;34m+\u001b[0m \u001b[0;36m30\u001b[0m\u001b[0;34m\u001b[0m\u001b[0m\n\u001b[0m",
      "\u001b[0;31mTypeError\u001b[0m: must be str, not int"
     ]
    }
   ],
   "source": [
    "numer + 30"
   ]
  },
  {
   "cell_type": "code",
   "execution_count": 50,
   "metadata": {},
   "outputs": [
    {
     "data": {
      "text/plain": [
       "300"
      ]
     },
     "execution_count": 50,
     "metadata": {},
     "output_type": "execute_result"
    }
   ],
   "source": [
    "int(numer)"
   ]
  },
  {
   "cell_type": "code",
   "execution_count": 51,
   "metadata": {},
   "outputs": [
    {
     "data": {
      "text/plain": [
       "'To są marne zarobki'"
      ]
     },
     "execution_count": 51,
     "metadata": {},
     "output_type": "execute_result"
    }
   ],
   "source": [
    "werdykt"
   ]
  },
  {
   "cell_type": "code",
   "execution_count": 52,
   "metadata": {},
   "outputs": [
    {
     "ename": "ValueError",
     "evalue": "invalid literal for int() with base 10: 'To są marne zarobki'",
     "output_type": "error",
     "traceback": [
      "\u001b[0;31m---------------------------------------------------------------------------\u001b[0m",
      "\u001b[0;31mValueError\u001b[0m                                Traceback (most recent call last)",
      "\u001b[0;32m<ipython-input-52-98592b522042>\u001b[0m in \u001b[0;36m<module>\u001b[0;34m()\u001b[0m\n\u001b[0;32m----> 1\u001b[0;31m \u001b[0mint\u001b[0m\u001b[0;34m(\u001b[0m\u001b[0mwerdykt\u001b[0m\u001b[0;34m)\u001b[0m\u001b[0;34m\u001b[0m\u001b[0m\n\u001b[0m",
      "\u001b[0;31mValueError\u001b[0m: invalid literal for int() with base 10: 'To są marne zarobki'"
     ]
    }
   ],
   "source": [
    "int(werdykt)"
   ]
  },
  {
   "cell_type": "code",
   "execution_count": 53,
   "metadata": {
    "collapsed": true
   },
   "outputs": [],
   "source": [
    "pkt = '30.8'"
   ]
  },
  {
   "cell_type": "code",
   "execution_count": 54,
   "metadata": {},
   "outputs": [
    {
     "data": {
      "text/plain": [
       "30.8"
      ]
     },
     "execution_count": 54,
     "metadata": {},
     "output_type": "execute_result"
    }
   ],
   "source": [
    "float(pkt)"
   ]
  },
  {
   "cell_type": "code",
   "execution_count": 55,
   "metadata": {},
   "outputs": [
    {
     "data": {
      "text/plain": [
       "True"
      ]
     },
     "execution_count": 55,
     "metadata": {},
     "output_type": "execute_result"
    }
   ],
   "source": [
    "True"
   ]
  },
  {
   "cell_type": "code",
   "execution_count": 56,
   "metadata": {},
   "outputs": [
    {
     "data": {
      "text/plain": [
       "False"
      ]
     },
     "execution_count": 56,
     "metadata": {},
     "output_type": "execute_result"
    }
   ],
   "source": [
    "False"
   ]
  },
  {
   "cell_type": "code",
   "execution_count": 57,
   "metadata": {
    "collapsed": true
   },
   "outputs": [],
   "source": [
    "prawda = True"
   ]
  },
  {
   "cell_type": "code",
   "execution_count": 58,
   "metadata": {},
   "outputs": [
    {
     "name": "stdout",
     "output_type": "stream",
     "text": [
      "True\n"
     ]
    }
   ],
   "source": [
    "print(prawda)"
   ]
  },
  {
   "cell_type": "code",
   "execution_count": 59,
   "metadata": {},
   "outputs": [
    {
     "data": {
      "text/plain": [
       "bool"
      ]
     },
     "execution_count": 59,
     "metadata": {},
     "output_type": "execute_result"
    }
   ],
   "source": [
    "type(prawda)"
   ]
  },
  {
   "cell_type": "code",
   "execution_count": 60,
   "metadata": {},
   "outputs": [
    {
     "data": {
      "text/plain": [
       "2"
      ]
     },
     "execution_count": 60,
     "metadata": {},
     "output_type": "execute_result"
    }
   ],
   "source": [
    "prawda + prawda "
   ]
  },
  {
   "cell_type": "code",
   "execution_count": 61,
   "metadata": {},
   "outputs": [
    {
     "data": {
      "text/plain": [
       "0"
      ]
     },
     "execution_count": 61,
     "metadata": {},
     "output_type": "execute_result"
    }
   ],
   "source": [
    "False + False "
   ]
  },
  {
   "cell_type": "code",
   "execution_count": 63,
   "metadata": {
    "collapsed": true
   },
   "outputs": [],
   "source": [
    "wartosci = 2,3"
   ]
  },
  {
   "cell_type": "code",
   "execution_count": 65,
   "metadata": {},
   "outputs": [
    {
     "data": {
      "text/plain": [
       "[]"
      ]
     },
     "execution_count": 65,
     "metadata": {},
     "output_type": "execute_result"
    }
   ],
   "source": [
    "[]"
   ]
  },
  {
   "cell_type": "code",
   "execution_count": 66,
   "metadata": {},
   "outputs": [
    {
     "data": {
      "text/plain": [
       "[]"
      ]
     },
     "execution_count": 66,
     "metadata": {},
     "output_type": "execute_result"
    }
   ],
   "source": [
    "list()"
   ]
  },
  {
   "cell_type": "code",
   "execution_count": 67,
   "metadata": {
    "collapsed": true
   },
   "outputs": [],
   "source": [
    "moja_lista = ['Samsung', 'Huawei', 'Xiaomi']"
   ]
  },
  {
   "cell_type": "code",
   "execution_count": 68,
   "metadata": {},
   "outputs": [
    {
     "data": {
      "text/plain": [
       "['Samsung', 'Huawei', 'Xiaomi']"
      ]
     },
     "execution_count": 68,
     "metadata": {},
     "output_type": "execute_result"
    }
   ],
   "source": [
    "moja_lista"
   ]
  },
  {
   "cell_type": "code",
   "execution_count": 69,
   "metadata": {
    "collapsed": true
   },
   "outputs": [],
   "source": [
    "aj = 'Apple'"
   ]
  },
  {
   "cell_type": "code",
   "execution_count": 70,
   "metadata": {},
   "outputs": [
    {
     "data": {
      "text/plain": [
       "'Apple'"
      ]
     },
     "execution_count": 70,
     "metadata": {},
     "output_type": "execute_result"
    }
   ],
   "source": [
    "aj"
   ]
  },
  {
   "cell_type": "code",
   "execution_count": 71,
   "metadata": {
    "collapsed": true
   },
   "outputs": [],
   "source": [
    "moja_lista2 = ['Samsung', 'Huawei', 'Xiaomi', aj]"
   ]
  },
  {
   "cell_type": "code",
   "execution_count": 72,
   "metadata": {},
   "outputs": [
    {
     "data": {
      "text/plain": [
       "['Samsung', 'Huawei', 'Xiaomi', 'Apple']"
      ]
     },
     "execution_count": 72,
     "metadata": {},
     "output_type": "execute_result"
    }
   ],
   "source": [
    "moja_lista2"
   ]
  },
  {
   "cell_type": "code",
   "execution_count": 73,
   "metadata": {
    "collapsed": true
   },
   "outputs": [],
   "source": [
    "niemoja_lista = ['Polonez', 'Trabant', 'Warszawa']"
   ]
  },
  {
   "cell_type": "code",
   "execution_count": 74,
   "metadata": {
    "collapsed": true
   },
   "outputs": [],
   "source": [
    "lista = moja_lista2 + niemoja_lista"
   ]
  },
  {
   "cell_type": "code",
   "execution_count": 75,
   "metadata": {},
   "outputs": [
    {
     "data": {
      "text/plain": [
       "['Samsung', 'Huawei', 'Xiaomi', 'Apple', 'Polonez', 'Trabant', 'Warszawa']"
      ]
     },
     "execution_count": 75,
     "metadata": {},
     "output_type": "execute_result"
    }
   ],
   "source": [
    "lista"
   ]
  },
  {
   "cell_type": "code",
   "execution_count": 76,
   "metadata": {},
   "outputs": [
    {
     "data": {
      "text/plain": [
       "'Huawei'"
      ]
     },
     "execution_count": 76,
     "metadata": {},
     "output_type": "execute_result"
    }
   ],
   "source": [
    "lista[1]"
   ]
  },
  {
   "cell_type": "code",
   "execution_count": 77,
   "metadata": {},
   "outputs": [
    {
     "data": {
      "text/plain": [
       "'Samsung'"
      ]
     },
     "execution_count": 77,
     "metadata": {},
     "output_type": "execute_result"
    }
   ],
   "source": [
    "lista[0]"
   ]
  },
  {
   "cell_type": "code",
   "execution_count": 79,
   "metadata": {},
   "outputs": [
    {
     "data": {
      "text/plain": [
       "'Apple'"
      ]
     },
     "execution_count": 79,
     "metadata": {},
     "output_type": "execute_result"
    }
   ],
   "source": [
    "lista[3]"
   ]
  },
  {
   "cell_type": "code",
   "execution_count": 80,
   "metadata": {},
   "outputs": [
    {
     "data": {
      "text/plain": [
       "['Samsung', 'Huawei', 'Xiaomi']"
      ]
     },
     "execution_count": 80,
     "metadata": {},
     "output_type": "execute_result"
    }
   ],
   "source": [
    "lista[0:3]"
   ]
  },
  {
   "cell_type": "code",
   "execution_count": 81,
   "metadata": {},
   "outputs": [
    {
     "data": {
      "text/plain": [
       "['Samsung', 'Huawei', 'Xiaomi', 'Apple']"
      ]
     },
     "execution_count": 81,
     "metadata": {},
     "output_type": "execute_result"
    }
   ],
   "source": [
    "lista[0:4]"
   ]
  },
  {
   "cell_type": "code",
   "execution_count": 83,
   "metadata": {},
   "outputs": [
    {
     "data": {
      "text/plain": [
       "['Huawei', 'Xiaomi']"
      ]
     },
     "execution_count": 83,
     "metadata": {},
     "output_type": "execute_result"
    }
   ],
   "source": [
    "lista[1:3]"
   ]
  },
  {
   "cell_type": "code",
   "execution_count": 84,
   "metadata": {
    "collapsed": true
   },
   "outputs": [],
   "source": [
    "chinese = lista[1:3]"
   ]
  },
  {
   "cell_type": "code",
   "execution_count": 85,
   "metadata": {},
   "outputs": [
    {
     "data": {
      "text/plain": [
       "['Huawei', 'Xiaomi']"
      ]
     },
     "execution_count": 85,
     "metadata": {},
     "output_type": "execute_result"
    }
   ],
   "source": [
    "chinese"
   ]
  },
  {
   "cell_type": "code",
   "execution_count": 87,
   "metadata": {},
   "outputs": [
    {
     "data": {
      "text/plain": [
       "'H'"
      ]
     },
     "execution_count": 87,
     "metadata": {},
     "output_type": "execute_result"
    }
   ],
   "source": [
    "chinese[0][0]"
   ]
  },
  {
   "cell_type": "code",
   "execution_count": 90,
   "metadata": {},
   "outputs": [
    {
     "data": {
      "text/plain": [
       "'Hua'"
      ]
     },
     "execution_count": 90,
     "metadata": {},
     "output_type": "execute_result"
    }
   ],
   "source": [
    "chinese[0][0:3]"
   ]
  },
  {
   "cell_type": "code",
   "execution_count": 92,
   "metadata": {},
   "outputs": [
    {
     "data": {
      "text/plain": [
       "'Xia'"
      ]
     },
     "execution_count": 92,
     "metadata": {},
     "output_type": "execute_result"
    }
   ],
   "source": [
    "chinese[1][:3]"
   ]
  },
  {
   "cell_type": "code",
   "execution_count": 94,
   "metadata": {},
   "outputs": [
    {
     "data": {
      "text/plain": [
       "'omi'"
      ]
     },
     "execution_count": 94,
     "metadata": {},
     "output_type": "execute_result"
    }
   ],
   "source": [
    "chinese[1][3:]"
   ]
  },
  {
   "cell_type": "code",
   "execution_count": 95,
   "metadata": {
    "collapsed": true
   },
   "outputs": [],
   "source": [
    "#Witam serdecznie w bardze mlecznym.\n",
    "ruskie = 4.50\n",
    "ziemniaczki = 2.35\n",
    "surowka = 2.15\n",
    "nalesniki = 7.50\n",
    "kompot = 2.00\n",
    "kotlecik = 8.50\n",
    "pomidorowa = 2.35\n",
    "leniwe = 3.90\n",
    "kasza = 2.25\n",
    "wodka_spod_lady = 4.00"
   ]
  },
  {
   "cell_type": "code",
   "execution_count": 96,
   "metadata": {
    "collapsed": true
   },
   "outputs": [],
   "source": [
    "ceny = [ruskie, ziemniaczki, surowka,\n",
    "        nalesniki, kompot, kotlecik,\n",
    "       pomidorowa, leniwe, kasza, wodka_spod_lady]"
   ]
  },
  {
   "cell_type": "code",
   "execution_count": 97,
   "metadata": {},
   "outputs": [
    {
     "data": {
      "text/plain": [
       "[4.5, 2.35, 2.15, 7.5, 2.0, 8.5, 2.35, 3.9, 2.25, 4.0]"
      ]
     },
     "execution_count": 97,
     "metadata": {},
     "output_type": "execute_result"
    }
   ],
   "source": [
    "ceny"
   ]
  },
  {
   "cell_type": "code",
   "execution_count": 98,
   "metadata": {},
   "outputs": [
    {
     "data": {
      "text/plain": [
       "list"
      ]
     },
     "execution_count": 98,
     "metadata": {},
     "output_type": "execute_result"
    }
   ],
   "source": [
    "type(ceny)"
   ]
  },
  {
   "cell_type": "code",
   "execution_count": 99,
   "metadata": {},
   "outputs": [
    {
     "data": {
      "text/plain": [
       "float"
      ]
     },
     "execution_count": 99,
     "metadata": {},
     "output_type": "execute_result"
    }
   ],
   "source": [
    "type(ceny[0])"
   ]
  },
  {
   "cell_type": "code",
   "execution_count": 100,
   "metadata": {
    "collapsed": true
   },
   "outputs": [],
   "source": [
    "menu = ['ruskie', ruskie,\n",
    "       'ziemniaczki', ziemniaczki,\n",
    "       'surowka', surowka]"
   ]
  },
  {
   "cell_type": "code",
   "execution_count": 101,
   "metadata": {},
   "outputs": [
    {
     "data": {
      "text/plain": [
       "['ruskie', 4.5, 'ziemniaczki', 2.35, 'surowka', 2.15]"
      ]
     },
     "execution_count": 101,
     "metadata": {},
     "output_type": "execute_result"
    }
   ],
   "source": [
    "menu"
   ]
  },
  {
   "cell_type": "code",
   "execution_count": 104,
   "metadata": {
    "collapsed": true
   },
   "outputs": [],
   "source": [
    "menu2 = [['ruskie', ruskie],['ziemniaczki', ziemniaczki],\n",
    "        ['surowka', surowka]]"
   ]
  },
  {
   "cell_type": "code",
   "execution_count": 105,
   "metadata": {},
   "outputs": [
    {
     "data": {
      "text/plain": [
       "[['ruskie', 4.5], ['ziemniaczki', 2.35], ['surowka', 2.15]]"
      ]
     },
     "execution_count": 105,
     "metadata": {},
     "output_type": "execute_result"
    }
   ],
   "source": [
    "menu2"
   ]
  },
  {
   "cell_type": "code",
   "execution_count": 106,
   "metadata": {},
   "outputs": [
    {
     "data": {
      "text/plain": [
       "3"
      ]
     },
     "execution_count": 106,
     "metadata": {},
     "output_type": "execute_result"
    }
   ],
   "source": [
    "len(menu2)"
   ]
  },
  {
   "cell_type": "code",
   "execution_count": 110,
   "metadata": {},
   "outputs": [
    {
     "data": {
      "text/plain": [
       "4.5"
      ]
     },
     "execution_count": 110,
     "metadata": {},
     "output_type": "execute_result"
    }
   ],
   "source": [
    "menu2[0][1]"
   ]
  },
  {
   "cell_type": "code",
   "execution_count": 112,
   "metadata": {},
   "outputs": [
    {
     "data": {
      "text/plain": [
       "['surowka', 2.15]"
      ]
     },
     "execution_count": 112,
     "metadata": {},
     "output_type": "execute_result"
    }
   ],
   "source": [
    "menu2[-1]"
   ]
  },
  {
   "cell_type": "code",
   "execution_count": 113,
   "metadata": {},
   "outputs": [
    {
     "data": {
      "text/plain": [
       "[['ruskie', 4.5], ['ziemniaczki', 2.35], ['surowka', 2.15]]"
      ]
     },
     "execution_count": 113,
     "metadata": {},
     "output_type": "execute_result"
    }
   ],
   "source": [
    "menu2"
   ]
  },
  {
   "cell_type": "code",
   "execution_count": 116,
   "metadata": {
    "collapsed": true
   },
   "outputs": [],
   "source": [
    "menu2[1][0] = 'kotlet nieznanego pochodzenia'"
   ]
  },
  {
   "cell_type": "code",
   "execution_count": 117,
   "metadata": {},
   "outputs": [
    {
     "data": {
      "text/plain": [
       "[['ruskie', 4.5], ['kotlet nieznanego pochodzenia', 2.35], ['surowka', 2.15]]"
      ]
     },
     "execution_count": 117,
     "metadata": {},
     "output_type": "execute_result"
    }
   ],
   "source": [
    "menu2"
   ]
  },
  {
   "cell_type": "code",
   "execution_count": 118,
   "metadata": {
    "collapsed": true
   },
   "outputs": [],
   "source": [
    "rachunek = menu2[0][1] + menu2[1][1] + menu2[-1][1]"
   ]
  },
  {
   "cell_type": "code",
   "execution_count": 119,
   "metadata": {},
   "outputs": [
    {
     "data": {
      "text/plain": [
       "9.0"
      ]
     },
     "execution_count": 119,
     "metadata": {},
     "output_type": "execute_result"
    }
   ],
   "source": [
    "rachunek"
   ]
  },
  {
   "cell_type": "code",
   "execution_count": 121,
   "metadata": {},
   "outputs": [
    {
     "data": {
      "text/plain": [
       "[4.5, 2.35, 2.15, 7.5, 2.0, 8.5, 2.35, 3.9, 2.25, 4.0]"
      ]
     },
     "execution_count": 121,
     "metadata": {},
     "output_type": "execute_result"
    }
   ],
   "source": [
    "ceny"
   ]
  },
  {
   "cell_type": "code",
   "execution_count": 122,
   "metadata": {
    "collapsed": true
   },
   "outputs": [],
   "source": [
    "?sorted"
   ]
  },
  {
   "cell_type": "code",
   "execution_count": 123,
   "metadata": {},
   "outputs": [
    {
     "data": {
      "text/plain": [
       "[2.0, 2.15, 2.25, 2.35, 2.35, 3.9, 4.0, 4.5, 7.5, 8.5]"
      ]
     },
     "execution_count": 123,
     "metadata": {},
     "output_type": "execute_result"
    }
   ],
   "source": [
    "sorted(ceny)"
   ]
  },
  {
   "cell_type": "code",
   "execution_count": 124,
   "metadata": {},
   "outputs": [
    {
     "data": {
      "text/plain": [
       "[8.5, 7.5, 4.5, 4.0, 3.9, 2.35, 2.35, 2.25, 2.15, 2.0]"
      ]
     },
     "execution_count": 124,
     "metadata": {},
     "output_type": "execute_result"
    }
   ],
   "source": [
    "sorted(ceny,reverse=True)"
   ]
  },
  {
   "cell_type": "code",
   "execution_count": 125,
   "metadata": {},
   "outputs": [
    {
     "data": {
      "text/plain": [
       "[4.5, 2.35, 2.15, 7.5, 2.0, 8.5, 2.35, 3.9, 2.25, 4.0]"
      ]
     },
     "execution_count": 125,
     "metadata": {},
     "output_type": "execute_result"
    }
   ],
   "source": [
    "ceny"
   ]
  },
  {
   "cell_type": "code",
   "execution_count": 126,
   "metadata": {
    "collapsed": true
   },
   "outputs": [],
   "source": [
    "ceny_sort = sorted(ceny,reverse=True)"
   ]
  },
  {
   "cell_type": "code",
   "execution_count": 127,
   "metadata": {},
   "outputs": [
    {
     "data": {
      "text/plain": [
       "[8.5, 7.5, 4.5, 4.0, 3.9, 2.35, 2.35, 2.25, 2.15, 2.0]"
      ]
     },
     "execution_count": 127,
     "metadata": {},
     "output_type": "execute_result"
    }
   ],
   "source": [
    "ceny_sort"
   ]
  },
  {
   "cell_type": "code",
   "execution_count": 128,
   "metadata": {
    "collapsed": true
   },
   "outputs": [],
   "source": [
    "rozpacz = 'To jest krzyk rozpaczy!'"
   ]
  },
  {
   "cell_type": "code",
   "execution_count": 129,
   "metadata": {},
   "outputs": [
    {
     "data": {
      "text/plain": [
       "'TO JEST KRZYK ROZPACZY!'"
      ]
     },
     "execution_count": 129,
     "metadata": {},
     "output_type": "execute_result"
    }
   ],
   "source": [
    "rozpacz.upper()"
   ]
  },
  {
   "cell_type": "code",
   "execution_count": 130,
   "metadata": {},
   "outputs": [
    {
     "data": {
      "text/plain": [
       "'To jest krzyk rozpaczy!'"
      ]
     },
     "execution_count": 130,
     "metadata": {},
     "output_type": "execute_result"
    }
   ],
   "source": [
    "rozpacz"
   ]
  },
  {
   "cell_type": "code",
   "execution_count": 131,
   "metadata": {
    "collapsed": true
   },
   "outputs": [],
   "source": [
    "rozpacz = rozpacz.upper()"
   ]
  },
  {
   "cell_type": "code",
   "execution_count": 132,
   "metadata": {},
   "outputs": [
    {
     "data": {
      "text/plain": [
       "'TO JEST KRZYK ROZPACZY!'"
      ]
     },
     "execution_count": 132,
     "metadata": {},
     "output_type": "execute_result"
    }
   ],
   "source": [
    "rozpacz"
   ]
  },
  {
   "cell_type": "code",
   "execution_count": 134,
   "metadata": {},
   "outputs": [
    {
     "data": {
      "text/plain": [
       "2"
      ]
     },
     "execution_count": 134,
     "metadata": {},
     "output_type": "execute_result"
    }
   ],
   "source": [
    "rozpacz.count('O')"
   ]
  },
  {
   "cell_type": "code",
   "execution_count": 135,
   "metadata": {},
   "outputs": [
    {
     "data": {
      "text/plain": [
       "[4.5, 2.35, 2.15, 7.5, 2.0, 8.5, 2.35, 3.9, 2.25, 4.0]"
      ]
     },
     "execution_count": 135,
     "metadata": {},
     "output_type": "execute_result"
    }
   ],
   "source": [
    "ceny"
   ]
  },
  {
   "cell_type": "code",
   "execution_count": 136,
   "metadata": {},
   "outputs": [
    {
     "data": {
      "text/plain": [
       "5"
      ]
     },
     "execution_count": 136,
     "metadata": {},
     "output_type": "execute_result"
    }
   ],
   "source": [
    "ceny.index(8.5)"
   ]
  },
  {
   "cell_type": "code",
   "execution_count": 137,
   "metadata": {},
   "outputs": [
    {
     "data": {
      "text/plain": [
       "8.5"
      ]
     },
     "execution_count": 137,
     "metadata": {},
     "output_type": "execute_result"
    }
   ],
   "source": [
    "ceny[5]"
   ]
  },
  {
   "cell_type": "code",
   "execution_count": 138,
   "metadata": {},
   "outputs": [
    {
     "data": {
      "text/plain": [
       "2"
      ]
     },
     "execution_count": 138,
     "metadata": {},
     "output_type": "execute_result"
    }
   ],
   "source": [
    "ceny.count(2.35)"
   ]
  },
  {
   "cell_type": "code",
   "execution_count": 139,
   "metadata": {},
   "outputs": [
    {
     "data": {
      "text/plain": [
       "1"
      ]
     },
     "execution_count": 139,
     "metadata": {},
     "output_type": "execute_result"
    }
   ],
   "source": [
    "ceny.index(2.35)"
   ]
  },
  {
   "cell_type": "code",
   "execution_count": 140,
   "metadata": {},
   "outputs": [
    {
     "data": {
      "text/plain": [
       "0"
      ]
     },
     "execution_count": 140,
     "metadata": {},
     "output_type": "execute_result"
    }
   ],
   "source": [
    "ceny.count('2.35')"
   ]
  },
  {
   "cell_type": "code",
   "execution_count": 142,
   "metadata": {},
   "outputs": [
    {
     "data": {
      "text/plain": [
       "[4.5, 2.35, 2.15, 7.5, 2.0, 8.5, 2.35, 3.9, 2.25, 4.0]"
      ]
     },
     "execution_count": 142,
     "metadata": {},
     "output_type": "execute_result"
    }
   ],
   "source": [
    "ceny"
   ]
  },
  {
   "cell_type": "code",
   "execution_count": 143,
   "metadata": {},
   "outputs": [
    {
     "ename": "TypeError",
     "evalue": "can only concatenate list (not \"float\") to list",
     "output_type": "error",
     "traceback": [
      "\u001b[0;31m---------------------------------------------------------------------------\u001b[0m",
      "\u001b[0;31mTypeError\u001b[0m                                 Traceback (most recent call last)",
      "\u001b[0;32m<ipython-input-143-f0a747b943e4>\u001b[0m in \u001b[0;36m<module>\u001b[0;34m()\u001b[0m\n\u001b[0;32m----> 1\u001b[0;31m \u001b[0mceny\u001b[0m \u001b[0;34m+\u001b[0m \u001b[0;36m7.35\u001b[0m\u001b[0;34m\u001b[0m\u001b[0m\n\u001b[0m",
      "\u001b[0;31mTypeError\u001b[0m: can only concatenate list (not \"float\") to list"
     ]
    }
   ],
   "source": [
    "ceny + 7.35"
   ]
  },
  {
   "cell_type": "code",
   "execution_count": 148,
   "metadata": {
    "collapsed": true
   },
   "outputs": [],
   "source": [
    "ceny.append(7.35)"
   ]
  },
  {
   "cell_type": "code",
   "execution_count": 149,
   "metadata": {},
   "outputs": [
    {
     "data": {
      "text/plain": [
       "[4.5, 2.35, 2.15, 7.5, 2.0, 8.5, 2.35, 3.9, 2.25, 4.0, 7.35, 7.35, 7.35]"
      ]
     },
     "execution_count": 149,
     "metadata": {},
     "output_type": "execute_result"
    }
   ],
   "source": [
    "ceny"
   ]
  },
  {
   "cell_type": "code",
   "execution_count": 152,
   "metadata": {},
   "outputs": [
    {
     "data": {
      "text/plain": [
       "7.35"
      ]
     },
     "execution_count": 152,
     "metadata": {},
     "output_type": "execute_result"
    }
   ],
   "source": [
    "ceny.pop(-1)"
   ]
  },
  {
   "cell_type": "code",
   "execution_count": 153,
   "metadata": {},
   "outputs": [
    {
     "data": {
      "text/plain": [
       "[4.5, 2.35, 2.15, 7.5, 2.0, 8.5, 2.35, 3.9, 2.25, 4.0, 7.35]"
      ]
     },
     "execution_count": 153,
     "metadata": {},
     "output_type": "execute_result"
    }
   ],
   "source": [
    "ceny"
   ]
  },
  {
   "cell_type": "code",
   "execution_count": 154,
   "metadata": {
    "collapsed": true
   },
   "outputs": [],
   "source": [
    "nowe_pozycje = [7.35, 4.50, 5.55, 6.7]"
   ]
  },
  {
   "cell_type": "code",
   "execution_count": 155,
   "metadata": {
    "collapsed": true
   },
   "outputs": [],
   "source": [
    "ceny.append(nowe_pozycje)"
   ]
  },
  {
   "cell_type": "code",
   "execution_count": 156,
   "metadata": {},
   "outputs": [
    {
     "data": {
      "text/plain": [
       "[4.5,\n",
       " 2.35,\n",
       " 2.15,\n",
       " 7.5,\n",
       " 2.0,\n",
       " 8.5,\n",
       " 2.35,\n",
       " 3.9,\n",
       " 2.25,\n",
       " 4.0,\n",
       " 7.35,\n",
       " [7.35, 4.5, 5.55, 6.7]]"
      ]
     },
     "execution_count": 156,
     "metadata": {},
     "output_type": "execute_result"
    }
   ],
   "source": [
    "ceny"
   ]
  },
  {
   "cell_type": "code",
   "execution_count": 157,
   "metadata": {},
   "outputs": [
    {
     "data": {
      "text/plain": [
       "[7.35, 4.5, 5.55, 6.7]"
      ]
     },
     "execution_count": 157,
     "metadata": {},
     "output_type": "execute_result"
    }
   ],
   "source": [
    "ceny.pop(-1)"
   ]
  },
  {
   "cell_type": "code",
   "execution_count": 158,
   "metadata": {},
   "outputs": [
    {
     "data": {
      "text/plain": [
       "[4.5, 2.35, 2.15, 7.5, 2.0, 8.5, 2.35, 3.9, 2.25, 4.0, 7.35]"
      ]
     },
     "execution_count": 158,
     "metadata": {},
     "output_type": "execute_result"
    }
   ],
   "source": [
    "ceny"
   ]
  },
  {
   "cell_type": "code",
   "execution_count": 159,
   "metadata": {
    "collapsed": true
   },
   "outputs": [],
   "source": [
    "ceny.extend(nowe_pozycje)"
   ]
  },
  {
   "cell_type": "code",
   "execution_count": 160,
   "metadata": {},
   "outputs": [
    {
     "data": {
      "text/plain": [
       "[4.5,\n",
       " 2.35,\n",
       " 2.15,\n",
       " 7.5,\n",
       " 2.0,\n",
       " 8.5,\n",
       " 2.35,\n",
       " 3.9,\n",
       " 2.25,\n",
       " 4.0,\n",
       " 7.35,\n",
       " 7.35,\n",
       " 4.5,\n",
       " 5.55,\n",
       " 6.7]"
      ]
     },
     "execution_count": 160,
     "metadata": {},
     "output_type": "execute_result"
    }
   ],
   "source": [
    "ceny"
   ]
  },
  {
   "cell_type": "code",
   "execution_count": 163,
   "metadata": {},
   "outputs": [
    {
     "data": {
      "text/plain": [
       "[7.35, 4.5, 5.55, 6.7]"
      ]
     },
     "execution_count": 163,
     "metadata": {},
     "output_type": "execute_result"
    }
   ],
   "source": [
    "ceny[-4:]"
   ]
  },
  {
   "cell_type": "code",
   "execution_count": 164,
   "metadata": {
    "collapsed": true
   },
   "outputs": [],
   "source": [
    "del ceny[-4:]"
   ]
  },
  {
   "cell_type": "code",
   "execution_count": 166,
   "metadata": {},
   "outputs": [
    {
     "data": {
      "text/plain": [
       "[4.5, 2.35, 2.15, 7.5, 2.0, 8.5, 2.35, 3.9, 2.25, 4.0, 7.35]"
      ]
     },
     "execution_count": 166,
     "metadata": {},
     "output_type": "execute_result"
    }
   ],
   "source": [
    "ceny"
   ]
  },
  {
   "cell_type": "code",
   "execution_count": 167,
   "metadata": {
    "collapsed": true
   },
   "outputs": [],
   "source": [
    "ceny.remove(2.35)"
   ]
  },
  {
   "cell_type": "code",
   "execution_count": 168,
   "metadata": {},
   "outputs": [
    {
     "data": {
      "text/plain": [
       "[4.5, 2.15, 7.5, 2.0, 8.5, 2.35, 3.9, 2.25, 4.0, 7.35]"
      ]
     },
     "execution_count": 168,
     "metadata": {},
     "output_type": "execute_result"
    }
   ],
   "source": [
    "ceny"
   ]
  },
  {
   "cell_type": "code",
   "execution_count": 169,
   "metadata": {
    "collapsed": true
   },
   "outputs": [],
   "source": [
    "ceny.reverse()"
   ]
  },
  {
   "cell_type": "code",
   "execution_count": 170,
   "metadata": {},
   "outputs": [
    {
     "data": {
      "text/plain": [
       "[7.35, 4.0, 2.25, 3.9, 2.35, 8.5, 2.0, 7.5, 2.15, 4.5]"
      ]
     },
     "execution_count": 170,
     "metadata": {},
     "output_type": "execute_result"
    }
   ],
   "source": [
    "ceny"
   ]
  },
  {
   "cell_type": "markdown",
   "metadata": {},
   "source": [
    "##### importowanie pakietów i funkcji"
   ]
  },
  {
   "cell_type": "code",
   "execution_count": 171,
   "metadata": {
    "collapsed": true
   },
   "outputs": [],
   "source": [
    "import os"
   ]
  },
  {
   "cell_type": "code",
   "execution_count": 174,
   "metadata": {
    "collapsed": true
   },
   "outputs": [],
   "source": [
    "gdzie_jestem = os.getcwd()"
   ]
  },
  {
   "cell_type": "code",
   "execution_count": 175,
   "metadata": {},
   "outputs": [
    {
     "data": {
      "text/plain": [
       "str"
      ]
     },
     "execution_count": 175,
     "metadata": {},
     "output_type": "execute_result"
    }
   ],
   "source": [
    "type(gdzie_jestem)"
   ]
  },
  {
   "cell_type": "code",
   "execution_count": 176,
   "metadata": {},
   "outputs": [
    {
     "data": {
      "text/plain": [
       "'/Users/Gacek/Documents/Koło neuro - warsztaty'"
      ]
     },
     "execution_count": 176,
     "metadata": {},
     "output_type": "execute_result"
    }
   ],
   "source": [
    "gdzie_jestem"
   ]
  },
  {
   "cell_type": "code",
   "execution_count": 177,
   "metadata": {
    "collapsed": true
   },
   "outputs": [],
   "source": [
    "from os import listdir"
   ]
  },
  {
   "cell_type": "code",
   "execution_count": 178,
   "metadata": {},
   "outputs": [
    {
     "data": {
      "text/plain": [
       "['.ipynb_checkpoints', 'Spotkanie_1.ipynb']"
      ]
     },
     "execution_count": 178,
     "metadata": {},
     "output_type": "execute_result"
    }
   ],
   "source": [
    "listdir()"
   ]
  },
  {
   "cell_type": "code",
   "execution_count": 179,
   "metadata": {},
   "outputs": [
    {
     "data": {
      "text/plain": [
       "['.DS_Store',\n",
       " '.ipynb_checkpoints',\n",
       " '.localized',\n",
       " 'Artykuły',\n",
       " 'Biblioteka.indl',\n",
       " 'cvkasienki.docx',\n",
       " 'DTI',\n",
       " 'efile',\n",
       " 'efile-backup',\n",
       " 'files',\n",
       " 'GitHub',\n",
       " 'IBM',\n",
       " 'Insanity',\n",
       " 'Koła',\n",
       " 'Koło neuro - warsztaty',\n",
       " 'Książki',\n",
       " 'MATLAB',\n",
       " 'Mendeley Desktop',\n",
       " 'Neuro',\n",
       " 'Paradox Interactive',\n",
       " 'Portugalski',\n",
       " 'Postery i prezentacje',\n",
       " 'Praktyki',\n",
       " 'Procedura OK 2.zip',\n",
       " 'Prywatne',\n",
       " 'PsychoPy',\n",
       " 'Python',\n",
       " 'R',\n",
       " 'Statystyka',\n",
       " 'Urzędowe']"
      ]
     },
     "execution_count": 179,
     "metadata": {},
     "output_type": "execute_result"
    }
   ],
   "source": [
    "listdir('/Users/Gacek/Documents/')"
   ]
  },
  {
   "cell_type": "code",
   "execution_count": 181,
   "metadata": {
    "collapsed": true
   },
   "outputs": [],
   "source": [
    "sc_windows = r'C:\\Users\\Putin\\Photos\\KGB Party 1985'"
   ]
  },
  {
   "cell_type": "code",
   "execution_count": 182,
   "metadata": {},
   "outputs": [
    {
     "data": {
      "text/plain": [
       "'C:\\\\Users\\\\Putin\\\\Photos\\\\KGB Party 1985'"
      ]
     },
     "execution_count": 182,
     "metadata": {},
     "output_type": "execute_result"
    }
   ],
   "source": [
    "sc_windows"
   ]
  },
  {
   "cell_type": "code",
   "execution_count": 183,
   "metadata": {
    "collapsed": true
   },
   "outputs": [],
   "source": [
    "prezes = 150"
   ]
  },
  {
   "cell_type": "code",
   "execution_count": 184,
   "metadata": {},
   "outputs": [
    {
     "data": {
      "text/plain": [
       "False"
      ]
     },
     "execution_count": 184,
     "metadata": {},
     "output_type": "execute_result"
    }
   ],
   "source": [
    "prezes > 180"
   ]
  },
  {
   "cell_type": "code",
   "execution_count": 185,
   "metadata": {},
   "outputs": [
    {
     "data": {
      "text/plain": [
       "False"
      ]
     },
     "execution_count": 185,
     "metadata": {},
     "output_type": "execute_result"
    }
   ],
   "source": [
    "prezes < 140"
   ]
  },
  {
   "cell_type": "code",
   "execution_count": 186,
   "metadata": {},
   "outputs": [
    {
     "data": {
      "text/plain": [
       "True"
      ]
     },
     "execution_count": 186,
     "metadata": {},
     "output_type": "execute_result"
    }
   ],
   "source": [
    "prezes > 145"
   ]
  },
  {
   "cell_type": "code",
   "execution_count": 187,
   "metadata": {},
   "outputs": [
    {
     "data": {
      "text/plain": [
       "False"
      ]
     },
     "execution_count": 187,
     "metadata": {},
     "output_type": "execute_result"
    }
   ],
   "source": [
    "prezes == 160"
   ]
  },
  {
   "cell_type": "code",
   "execution_count": 188,
   "metadata": {
    "scrolled": true
   },
   "outputs": [
    {
     "data": {
      "text/plain": [
       "150"
      ]
     },
     "execution_count": 188,
     "metadata": {},
     "output_type": "execute_result"
    }
   ],
   "source": [
    "prezes"
   ]
  },
  {
   "cell_type": "code",
   "execution_count": 189,
   "metadata": {},
   "outputs": [
    {
     "data": {
      "text/plain": [
       "True"
      ]
     },
     "execution_count": 189,
     "metadata": {},
     "output_type": "execute_result"
    }
   ],
   "source": [
    "prezes != 0"
   ]
  },
  {
   "cell_type": "code",
   "execution_count": 190,
   "metadata": {
    "collapsed": true
   },
   "outputs": [],
   "source": [
    "import numpy as np"
   ]
  },
  {
   "cell_type": "code",
   "execution_count": 192,
   "metadata": {
    "collapsed": true
   },
   "outputs": [],
   "source": [
    "seed = np.random.RandomState(100)\n",
    "wzrost_lista = list(seed.normal(loc=1.70,\n",
    "                                scale=.15,size=100000).round(2))\n",
    "seed2 = np.random.RandomState(100)\n",
    "waga_lista = list(seed2.normal(loc=80,\n",
    "                               scale=10,size=100000).round(2))"
   ]
  },
  {
   "cell_type": "code",
   "execution_count": 193,
   "metadata": {},
   "outputs": [
    {
     "data": {
      "text/plain": [
       "[1.4399999999999999,\n",
       " 1.75,\n",
       " 1.8700000000000001,\n",
       " 1.6599999999999999,\n",
       " 1.8500000000000001,\n",
       " 1.78,\n",
       " 1.73,\n",
       " 1.54,\n",
       " 1.6699999999999999,\n",
       " 1.74,\n",
       " 1.6299999999999999,\n",
       " 1.77,\n",
       " 1.6100000000000001,\n",
       " 1.8200000000000001,\n",
       " 1.8,\n",
       " 1.6799999999999999,\n",
       " 1.6200000000000001,\n",
       " 1.8500000000000001,\n",
       " 1.6299999999999999,\n",
       " 1.53,\n",
       " 1.9399999999999999,\n",
       " 1.9299999999999999,\n",
       " 1.6599999999999999,\n",
       " 1.5700000000000001,\n",
       " 1.73,\n",
       " 1.8400000000000001,\n",
       " 1.8100000000000001,\n",
       " 1.8999999999999999,\n",
       " 1.6499999999999999,\n",
       " 1.71,\n",
       " 1.73,\n",
       " 1.48,\n",
       " 1.5900000000000001,\n",
       " 1.8200000000000001,\n",
       " 1.8100000000000001,\n",
       " 1.6299999999999999,\n",
       " 1.8799999999999999,\n",
       " 1.45,\n",
       " 1.5,\n",
       " 1.52,\n",
       " 1.6200000000000001,\n",
       " 1.6000000000000001,\n",
       " 1.7,\n",
       " 1.6100000000000001,\n",
       " 1.8899999999999999,\n",
       " 1.4399999999999999,\n",
       " 1.55,\n",
       " 1.75,\n",
       " 1.46,\n",
       " 1.9199999999999999,\n",
       " 1.52,\n",
       " 1.6200000000000001,\n",
       " 1.5600000000000001,\n",
       " 1.5800000000000001,\n",
       " 1.72,\n",
       " 1.78,\n",
       " 1.5700000000000001,\n",
       " 1.8899999999999999,\n",
       " 1.6899999999999999,\n",
       " 1.5700000000000001,\n",
       " 1.5700000000000001,\n",
       " 1.7,\n",
       " 1.74,\n",
       " 1.7,\n",
       " 1.45,\n",
       " 1.54,\n",
       " 1.79,\n",
       " 1.8100000000000001,\n",
       " 1.8500000000000001,\n",
       " 1.49,\n",
       " 1.4199999999999999,\n",
       " 1.75,\n",
       " 1.6499999999999999,\n",
       " 1.6000000000000001,\n",
       " 2.0099999999999998,\n",
       " 1.6200000000000001,\n",
       " 1.8100000000000001,\n",
       " 1.5,\n",
       " 1.79,\n",
       " 1.53,\n",
       " 1.8,\n",
       " 1.8,\n",
       " 1.46,\n",
       " 1.8400000000000001,\n",
       " 1.8200000000000001,\n",
       " 1.76,\n",
       " 1.72,\n",
       " 1.7,\n",
       " 1.6100000000000001,\n",
       " 1.52,\n",
       " 1.4399999999999999,\n",
       " 1.76,\n",
       " 1.98,\n",
       " 1.6399999999999999,\n",
       " 1.97,\n",
       " 1.7,\n",
       " 1.6899999999999999,\n",
       " 1.7,\n",
       " 1.6699999999999999,\n",
       " 1.3300000000000001,\n",
       " 1.4399999999999999,\n",
       " 1.53,\n",
       " 1.25,\n",
       " 1.7,\n",
       " 1.6599999999999999,\n",
       " 1.6299999999999999,\n",
       " 1.72,\n",
       " 1.7,\n",
       " 1.75,\n",
       " 1.5900000000000001,\n",
       " 1.51,\n",
       " 1.71,\n",
       " 1.6399999999999999,\n",
       " 1.52,\n",
       " 1.6499999999999999,\n",
       " 1.51,\n",
       " 1.9399999999999999,\n",
       " 1.8,\n",
       " 1.4099999999999999,\n",
       " 1.6799999999999999,\n",
       " 1.47,\n",
       " 2.0099999999999998,\n",
       " 1.49,\n",
       " 1.54,\n",
       " 1.6599999999999999,\n",
       " 1.49,\n",
       " 1.8400000000000001,\n",
       " 1.7,\n",
       " 1.8300000000000001,\n",
       " 1.8100000000000001,\n",
       " 1.48,\n",
       " 1.52,\n",
       " 1.8899999999999999,\n",
       " 1.8400000000000001,\n",
       " 1.52,\n",
       " 1.6799999999999999,\n",
       " 1.47,\n",
       " 1.72,\n",
       " 1.8100000000000001,\n",
       " 1.76,\n",
       " 1.49,\n",
       " 1.6000000000000001,\n",
       " 1.8200000000000001,\n",
       " 1.6299999999999999,\n",
       " 2.0099999999999998,\n",
       " 1.6499999999999999,\n",
       " 1.6100000000000001,\n",
       " 1.8100000000000001,\n",
       " 1.73,\n",
       " 1.6499999999999999,\n",
       " 2.04,\n",
       " 1.6799999999999999,\n",
       " 1.77,\n",
       " 1.74,\n",
       " 1.6499999999999999,\n",
       " 1.53,\n",
       " 1.96,\n",
       " 1.5900000000000001,\n",
       " 1.8600000000000001,\n",
       " 1.6699999999999999,\n",
       " 1.7,\n",
       " 1.6200000000000001,\n",
       " 1.8100000000000001,\n",
       " 1.46,\n",
       " 1.99,\n",
       " 1.48,\n",
       " 1.72,\n",
       " 1.8400000000000001,\n",
       " 1.3999999999999999,\n",
       " 1.6899999999999999,\n",
       " 1.75,\n",
       " 1.45,\n",
       " 1.73,\n",
       " 1.6000000000000001,\n",
       " 1.6799999999999999,\n",
       " 2.0,\n",
       " 1.78,\n",
       " 1.7,\n",
       " 1.6399999999999999,\n",
       " 1.5,\n",
       " 1.6200000000000001,\n",
       " 1.6699999999999999,\n",
       " 1.76,\n",
       " 1.54,\n",
       " 1.8899999999999999,\n",
       " 1.6699999999999999,\n",
       " 1.5900000000000001,\n",
       " 1.6100000000000001,\n",
       " 1.8100000000000001,\n",
       " 1.77,\n",
       " 1.97,\n",
       " 1.78,\n",
       " 1.8799999999999999,\n",
       " 2.0099999999999998,\n",
       " 1.6299999999999999,\n",
       " 1.8,\n",
       " 1.6699999999999999,\n",
       " 1.8500000000000001,\n",
       " 1.6100000000000001,\n",
       " 1.9399999999999999,\n",
       " 1.79,\n",
       " 1.5600000000000001,\n",
       " 1.79,\n",
       " 1.6299999999999999,\n",
       " 1.72,\n",
       " 1.8999999999999999,\n",
       " 1.9099999999999999,\n",
       " 1.4399999999999999,\n",
       " 1.74,\n",
       " 1.6499999999999999,\n",
       " 1.78,\n",
       " 1.6399999999999999,\n",
       " 1.77,\n",
       " 1.49,\n",
       " 1.76,\n",
       " 1.5800000000000001,\n",
       " 1.76,\n",
       " 1.6799999999999999,\n",
       " 1.8899999999999999,\n",
       " 1.95,\n",
       " 1.6000000000000001,\n",
       " 2.2200000000000002,\n",
       " 1.76,\n",
       " 1.75,\n",
       " 1.6499999999999999,\n",
       " 1.49,\n",
       " 1.6100000000000001,\n",
       " 1.6799999999999999,\n",
       " 1.8400000000000001,\n",
       " 1.55,\n",
       " 1.54,\n",
       " 1.6599999999999999,\n",
       " 1.6100000000000001,\n",
       " 1.55,\n",
       " 1.71,\n",
       " 1.6100000000000001,\n",
       " 1.8700000000000001,\n",
       " 1.8400000000000001,\n",
       " 1.3600000000000001,\n",
       " 1.6499999999999999,\n",
       " 1.6799999999999999,\n",
       " 1.8799999999999999,\n",
       " 1.6100000000000001,\n",
       " 1.6599999999999999,\n",
       " 1.8700000000000001,\n",
       " 1.8700000000000001,\n",
       " 1.8100000000000001,\n",
       " 1.51,\n",
       " 1.9299999999999999,\n",
       " 1.6699999999999999,\n",
       " 1.6399999999999999,\n",
       " 1.77,\n",
       " 1.9199999999999999,\n",
       " 1.74,\n",
       " 1.6899999999999999,\n",
       " 1.8200000000000001,\n",
       " 2.04,\n",
       " 1.5600000000000001,\n",
       " 1.72,\n",
       " 2.0800000000000001,\n",
       " 1.76,\n",
       " 1.4199999999999999,\n",
       " 1.8899999999999999,\n",
       " 1.6299999999999999,\n",
       " 1.51,\n",
       " 1.8,\n",
       " 1.6599999999999999,\n",
       " 1.6399999999999999,\n",
       " 1.6200000000000001,\n",
       " 1.8200000000000001,\n",
       " 1.7,\n",
       " 1.9299999999999999,\n",
       " 1.76,\n",
       " 1.6299999999999999,\n",
       " 1.8600000000000001,\n",
       " 1.8600000000000001,\n",
       " 1.3799999999999999,\n",
       " 1.8100000000000001,\n",
       " 1.6599999999999999,\n",
       " 1.77,\n",
       " 1.77,\n",
       " 2.1099999999999999,\n",
       " 2.0,\n",
       " 1.8100000000000001,\n",
       " 1.6100000000000001,\n",
       " 1.5800000000000001,\n",
       " 1.6699999999999999,\n",
       " 1.78,\n",
       " 1.6599999999999999,\n",
       " 1.5700000000000001,\n",
       " 1.9299999999999999,\n",
       " 1.54,\n",
       " 1.8100000000000001,\n",
       " 1.52,\n",
       " 1.73,\n",
       " 1.5700000000000001,\n",
       " 1.72,\n",
       " 1.5600000000000001,\n",
       " 1.4199999999999999,\n",
       " 1.73,\n",
       " 1.6200000000000001,\n",
       " 1.6899999999999999,\n",
       " 2.1800000000000002,\n",
       " 2.2000000000000002,\n",
       " 1.9399999999999999,\n",
       " 1.8500000000000001,\n",
       " 1.98,\n",
       " 1.6499999999999999,\n",
       " 1.77,\n",
       " 1.54,\n",
       " 1.79,\n",
       " 1.71,\n",
       " 1.76,\n",
       " 1.8999999999999999,\n",
       " 1.95,\n",
       " 1.6499999999999999,\n",
       " 1.72,\n",
       " 1.9299999999999999,\n",
       " 1.6799999999999999,\n",
       " 1.8500000000000001,\n",
       " 1.8300000000000001,\n",
       " 1.71,\n",
       " 1.5,\n",
       " 1.74,\n",
       " 1.8799999999999999,\n",
       " 1.6299999999999999,\n",
       " 1.53,\n",
       " 1.74,\n",
       " 1.75,\n",
       " 1.6799999999999999,\n",
       " 1.6200000000000001,\n",
       " 1.6100000000000001,\n",
       " 1.5600000000000001,\n",
       " 1.76,\n",
       " 1.5,\n",
       " 1.4399999999999999,\n",
       " 1.72,\n",
       " 2.02,\n",
       " 2.1099999999999999,\n",
       " 1.3999999999999999,\n",
       " 1.78,\n",
       " 1.78,\n",
       " 1.8400000000000001,\n",
       " 1.8899999999999999,\n",
       " 1.6699999999999999,\n",
       " 1.6599999999999999,\n",
       " 1.7,\n",
       " 1.77,\n",
       " 1.4099999999999999,\n",
       " 1.6200000000000001,\n",
       " 1.53,\n",
       " 1.7,\n",
       " 1.75,\n",
       " 1.6499999999999999,\n",
       " 1.8300000000000001,\n",
       " 1.6599999999999999,\n",
       " 1.9199999999999999,\n",
       " 1.6399999999999999,\n",
       " 1.75,\n",
       " 1.6000000000000001,\n",
       " 1.7,\n",
       " 1.8500000000000001,\n",
       " 1.6799999999999999,\n",
       " 1.6699999999999999,\n",
       " 1.8200000000000001,\n",
       " 1.8600000000000001,\n",
       " 1.6399999999999999,\n",
       " 1.78,\n",
       " 1.3799999999999999,\n",
       " 1.74,\n",
       " 1.51,\n",
       " 1.8400000000000001,\n",
       " 1.4099999999999999,\n",
       " 1.7,\n",
       " 1.52,\n",
       " 1.73,\n",
       " 1.6100000000000001,\n",
       " 2.1099999999999999,\n",
       " 1.72,\n",
       " 1.54,\n",
       " 1.79,\n",
       " 1.54,\n",
       " 1.47,\n",
       " 1.75,\n",
       " 1.3999999999999999,\n",
       " 1.73,\n",
       " 1.6699999999999999,\n",
       " 1.8799999999999999,\n",
       " 1.6299999999999999,\n",
       " 1.8100000000000001,\n",
       " 1.6799999999999999,\n",
       " 1.6899999999999999,\n",
       " 1.6499999999999999,\n",
       " 1.6799999999999999,\n",
       " 1.71,\n",
       " 1.73,\n",
       " 1.3899999999999999,\n",
       " 1.8200000000000001,\n",
       " 1.6699999999999999,\n",
       " 1.52,\n",
       " 1.6699999999999999,\n",
       " 1.5700000000000001,\n",
       " 1.7,\n",
       " 1.6699999999999999,\n",
       " 1.54,\n",
       " 1.73,\n",
       " 1.5700000000000001,\n",
       " 1.76,\n",
       " 1.3500000000000001,\n",
       " 1.72,\n",
       " 1.6100000000000001,\n",
       " 1.6399999999999999,\n",
       " 1.9199999999999999,\n",
       " 1.6499999999999999,\n",
       " 1.75,\n",
       " 1.8500000000000001,\n",
       " 1.9299999999999999,\n",
       " 1.55,\n",
       " 1.8700000000000001,\n",
       " 1.5600000000000001,\n",
       " 1.52,\n",
       " 1.9099999999999999,\n",
       " 1.5900000000000001,\n",
       " 1.74,\n",
       " 1.8500000000000001,\n",
       " 1.9399999999999999,\n",
       " 1.6899999999999999,\n",
       " 1.6599999999999999,\n",
       " 1.6399999999999999,\n",
       " 1.6899999999999999,\n",
       " 1.8500000000000001,\n",
       " 1.3999999999999999,\n",
       " 1.6599999999999999,\n",
       " 1.8100000000000001,\n",
       " 1.8100000000000001,\n",
       " 1.4399999999999999,\n",
       " 1.8500000000000001,\n",
       " 1.71,\n",
       " 1.5600000000000001,\n",
       " 1.54,\n",
       " 1.6100000000000001,\n",
       " 1.6499999999999999,\n",
       " 1.8600000000000001,\n",
       " 1.5600000000000001,\n",
       " 1.51,\n",
       " 1.5600000000000001,\n",
       " 1.6499999999999999,\n",
       " 1.3899999999999999,\n",
       " 1.8899999999999999,\n",
       " 1.7,\n",
       " 1.8,\n",
       " 1.78,\n",
       " 1.72,\n",
       " 1.6499999999999999,\n",
       " 1.5,\n",
       " 1.6399999999999999,\n",
       " 1.6799999999999999,\n",
       " 1.78,\n",
       " 1.8400000000000001,\n",
       " 1.8799999999999999,\n",
       " 1.55,\n",
       " 1.6899999999999999,\n",
       " 1.75,\n",
       " 1.71,\n",
       " 1.8899999999999999,\n",
       " 1.6599999999999999,\n",
       " 1.8999999999999999,\n",
       " 1.6599999999999999,\n",
       " 1.6299999999999999,\n",
       " 1.49,\n",
       " 1.8200000000000001,\n",
       " 1.8999999999999999,\n",
       " 1.8200000000000001,\n",
       " 1.6599999999999999,\n",
       " 1.8100000000000001,\n",
       " 1.5900000000000001,\n",
       " 1.8799999999999999,\n",
       " 1.4199999999999999,\n",
       " 1.6399999999999999,\n",
       " 1.47,\n",
       " 1.6299999999999999,\n",
       " 1.53,\n",
       " 1.6799999999999999,\n",
       " 1.8,\n",
       " 1.7,\n",
       " 1.76,\n",
       " 1.6599999999999999,\n",
       " 1.8500000000000001,\n",
       " 1.8600000000000001,\n",
       " 1.49,\n",
       " 1.8500000000000001,\n",
       " 1.8300000000000001,\n",
       " 1.8600000000000001,\n",
       " 1.75,\n",
       " 1.51,\n",
       " 1.8300000000000001,\n",
       " 1.6599999999999999,\n",
       " 1.75,\n",
       " 1.3600000000000001,\n",
       " 1.8100000000000001,\n",
       " 1.8300000000000001,\n",
       " 2.02,\n",
       " 1.8899999999999999,\n",
       " 1.6799999999999999,\n",
       " 1.95,\n",
       " 1.49,\n",
       " 2.2799999999999998,\n",
       " 2.1600000000000001,\n",
       " 1.8200000000000001,\n",
       " 1.5700000000000001,\n",
       " 1.72,\n",
       " 1.8100000000000001,\n",
       " 1.75,\n",
       " 1.8100000000000001,\n",
       " 1.8600000000000001,\n",
       " 1.6299999999999999,\n",
       " 1.72,\n",
       " 1.6899999999999999,\n",
       " 1.73,\n",
       " 1.8,\n",
       " 1.4099999999999999,\n",
       " 1.72,\n",
       " 1.96,\n",
       " 1.6399999999999999,\n",
       " 1.5600000000000001,\n",
       " 1.6000000000000001,\n",
       " 1.8100000000000001,\n",
       " 1.4299999999999999,\n",
       " 1.73,\n",
       " 1.22,\n",
       " 1.9299999999999999,\n",
       " 1.6899999999999999,\n",
       " 1.8999999999999999,\n",
       " 1.6200000000000001,\n",
       " 1.74,\n",
       " 2.0600000000000001,\n",
       " 1.55,\n",
       " 1.8400000000000001,\n",
       " 1.3700000000000001,\n",
       " 1.3100000000000001,\n",
       " 1.8,\n",
       " 1.71,\n",
       " 1.6299999999999999,\n",
       " 1.7,\n",
       " 1.6200000000000001,\n",
       " 1.75,\n",
       " 1.8200000000000001,\n",
       " 1.8500000000000001,\n",
       " 1.7,\n",
       " 1.8200000000000001,\n",
       " 1.8,\n",
       " 1.76,\n",
       " 1.6200000000000001,\n",
       " 1.29,\n",
       " 1.6699999999999999,\n",
       " 1.6599999999999999,\n",
       " 1.46,\n",
       " 1.8200000000000001,\n",
       " 1.7,\n",
       " 1.5,\n",
       " 1.8300000000000001,\n",
       " 1.8200000000000001,\n",
       " 1.8799999999999999,\n",
       " 1.53,\n",
       " 1.78,\n",
       " 1.5700000000000001,\n",
       " 1.27,\n",
       " 1.6200000000000001,\n",
       " 1.6499999999999999,\n",
       " 2.0299999999999998,\n",
       " 1.75,\n",
       " 1.9199999999999999,\n",
       " 1.6299999999999999,\n",
       " 1.8400000000000001,\n",
       " 1.53,\n",
       " 1.8700000000000001,\n",
       " 1.52,\n",
       " 1.8999999999999999,\n",
       " 1.6899999999999999,\n",
       " 1.6000000000000001,\n",
       " 1.55,\n",
       " 1.8300000000000001,\n",
       " 1.5600000000000001,\n",
       " 1.74,\n",
       " 1.6200000000000001,\n",
       " 1.72,\n",
       " 1.7,\n",
       " 1.6100000000000001,\n",
       " 1.55,\n",
       " 1.5,\n",
       " 1.77,\n",
       " 1.72,\n",
       " 1.98,\n",
       " 1.72,\n",
       " 1.4399999999999999,\n",
       " 1.9199999999999999,\n",
       " 1.53,\n",
       " 1.8100000000000001,\n",
       " 1.6299999999999999,\n",
       " 1.8200000000000001,\n",
       " 1.6699999999999999,\n",
       " 1.55,\n",
       " 1.5600000000000001,\n",
       " 1.5600000000000001,\n",
       " 1.5900000000000001,\n",
       " 2.0099999999999998,\n",
       " 1.72,\n",
       " 1.73,\n",
       " 1.8899999999999999,\n",
       " 1.55,\n",
       " 1.5900000000000001,\n",
       " 1.6000000000000001,\n",
       " 1.5800000000000001,\n",
       " 1.96,\n",
       " 1.6299999999999999,\n",
       " 1.51,\n",
       " 1.6599999999999999,\n",
       " 1.6000000000000001,\n",
       " 1.54,\n",
       " 1.78,\n",
       " 1.4099999999999999,\n",
       " 1.74,\n",
       " 1.9299999999999999,\n",
       " 2.0600000000000001,\n",
       " 1.9299999999999999,\n",
       " 1.6699999999999999,\n",
       " 1.6799999999999999,\n",
       " 1.8700000000000001,\n",
       " 1.8500000000000001,\n",
       " 1.5600000000000001,\n",
       " 1.3700000000000001,\n",
       " 1.6299999999999999,\n",
       " 1.9399999999999999,\n",
       " 1.6899999999999999,\n",
       " 1.49,\n",
       " 1.5800000000000001,\n",
       " 1.8,\n",
       " 1.77,\n",
       " 1.6599999999999999,\n",
       " 1.73,\n",
       " 1.6499999999999999,\n",
       " 1.6799999999999999,\n",
       " 1.48,\n",
       " 1.5,\n",
       " 1.5900000000000001,\n",
       " 1.6100000000000001,\n",
       " 1.54,\n",
       " 1.78,\n",
       " 1.78,\n",
       " 1.8799999999999999,\n",
       " 1.6899999999999999,\n",
       " 1.6000000000000001,\n",
       " 1.5600000000000001,\n",
       " 1.3600000000000001,\n",
       " 1.73,\n",
       " 1.51,\n",
       " 1.8400000000000001,\n",
       " 1.78,\n",
       " 1.79,\n",
       " 1.8700000000000001,\n",
       " 1.6799999999999999,\n",
       " 1.6899999999999999,\n",
       " 1.5700000000000001,\n",
       " 1.5900000000000001,\n",
       " 1.6299999999999999,\n",
       " 1.78,\n",
       " 1.6599999999999999,\n",
       " 1.75,\n",
       " 1.73,\n",
       " 1.6399999999999999,\n",
       " 2.1000000000000001,\n",
       " 1.72,\n",
       " 1.8200000000000001,\n",
       " 1.3899999999999999,\n",
       " 1.6499999999999999,\n",
       " 1.74,\n",
       " 1.8400000000000001,\n",
       " 1.5700000000000001,\n",
       " 1.8,\n",
       " 1.47,\n",
       " 1.6200000000000001,\n",
       " 1.6699999999999999,\n",
       " 1.98,\n",
       " 1.7,\n",
       " 1.9299999999999999,\n",
       " 1.3700000000000001,\n",
       " 1.5600000000000001,\n",
       " 1.73,\n",
       " 1.5600000000000001,\n",
       " 1.8500000000000001,\n",
       " 1.55,\n",
       " 1.8400000000000001,\n",
       " 1.5600000000000001,\n",
       " 1.6299999999999999,\n",
       " 1.8600000000000001,\n",
       " 1.5900000000000001,\n",
       " 1.76,\n",
       " 1.71,\n",
       " 1.6899999999999999,\n",
       " 1.99,\n",
       " 1.79,\n",
       " 1.6799999999999999,\n",
       " 1.71,\n",
       " 1.53,\n",
       " 1.75,\n",
       " 1.79,\n",
       " 1.8400000000000001,\n",
       " 1.98,\n",
       " 1.76,\n",
       " 1.52,\n",
       " 1.73,\n",
       " 1.6100000000000001,\n",
       " 1.5900000000000001,\n",
       " 1.5900000000000001,\n",
       " 1.71,\n",
       " 1.5800000000000001,\n",
       " 1.75,\n",
       " 1.4199999999999999,\n",
       " 1.27,\n",
       " 1.6799999999999999,\n",
       " 1.47,\n",
       " 1.6100000000000001,\n",
       " 1.4099999999999999,\n",
       " 1.3999999999999999,\n",
       " 1.74,\n",
       " 1.6200000000000001,\n",
       " 1.6899999999999999,\n",
       " 1.6899999999999999,\n",
       " 1.5900000000000001,\n",
       " 1.9299999999999999,\n",
       " 1.75,\n",
       " 2.0899999999999999,\n",
       " 1.9399999999999999,\n",
       " 1.8,\n",
       " 1.7,\n",
       " 1.6100000000000001,\n",
       " 1.5900000000000001,\n",
       " 1.72,\n",
       " 1.8500000000000001,\n",
       " 1.54,\n",
       " 1.7,\n",
       " 1.51,\n",
       " 1.72,\n",
       " 1.78,\n",
       " 1.8500000000000001,\n",
       " 1.74,\n",
       " 1.6000000000000001,\n",
       " 1.6399999999999999,\n",
       " 1.7,\n",
       " 1.6699999999999999,\n",
       " 1.75,\n",
       " 1.74,\n",
       " 1.8500000000000001,\n",
       " 1.5,\n",
       " 1.74,\n",
       " 1.5600000000000001,\n",
       " 1.6599999999999999,\n",
       " 1.5,\n",
       " 1.71,\n",
       " 1.48,\n",
       " 1.5800000000000001,\n",
       " 2.04,\n",
       " 1.79,\n",
       " 1.8400000000000001,\n",
       " 1.5800000000000001,\n",
       " 1.8700000000000001,\n",
       " 1.6499999999999999,\n",
       " 1.6200000000000001,\n",
       " 1.78,\n",
       " 1.72,\n",
       " 1.8899999999999999,\n",
       " 1.51,\n",
       " 1.5800000000000001,\n",
       " 1.6299999999999999,\n",
       " 1.71,\n",
       " 1.6299999999999999,\n",
       " 1.6899999999999999,\n",
       " 1.6499999999999999,\n",
       " 1.8400000000000001,\n",
       " 1.6200000000000001,\n",
       " 1.6399999999999999,\n",
       " 1.71,\n",
       " 1.6899999999999999,\n",
       " 1.74,\n",
       " 1.51,\n",
       " 1.71,\n",
       " 1.6699999999999999,\n",
       " 1.5700000000000001,\n",
       " 1.45,\n",
       " 1.73,\n",
       " 1.6799999999999999,\n",
       " 1.6899999999999999,\n",
       " 1.6399999999999999,\n",
       " 1.8999999999999999,\n",
       " 1.54,\n",
       " 1.6899999999999999,\n",
       " 1.6200000000000001,\n",
       " 1.3899999999999999,\n",
       " 1.71,\n",
       " 1.5,\n",
       " 1.8100000000000001,\n",
       " 1.8200000000000001,\n",
       " 1.76,\n",
       " 1.78,\n",
       " 1.6299999999999999,\n",
       " 1.8,\n",
       " 1.8400000000000001,\n",
       " 1.8700000000000001,\n",
       " 1.8899999999999999,\n",
       " 1.48,\n",
       " 1.75,\n",
       " 1.3300000000000001,\n",
       " 1.8500000000000001,\n",
       " 1.6000000000000001,\n",
       " 1.74,\n",
       " 1.6299999999999999,\n",
       " 1.76,\n",
       " 1.8,\n",
       " 1.54,\n",
       " 1.6200000000000001,\n",
       " 1.6499999999999999,\n",
       " 1.8200000000000001,\n",
       " 1.6599999999999999,\n",
       " 1.6699999999999999,\n",
       " 2.04,\n",
       " 1.3200000000000001,\n",
       " 1.79,\n",
       " 1.71,\n",
       " 1.8100000000000001,\n",
       " 1.8400000000000001,\n",
       " 1.8899999999999999,\n",
       " 1.5700000000000001,\n",
       " 1.8799999999999999,\n",
       " 1.77,\n",
       " 1.6100000000000001,\n",
       " 1.8300000000000001,\n",
       " 1.48,\n",
       " 1.8,\n",
       " 1.6799999999999999,\n",
       " 1.8999999999999999,\n",
       " 1.6000000000000001,\n",
       " 1.6399999999999999,\n",
       " 1.6499999999999999,\n",
       " 1.6399999999999999,\n",
       " 1.48,\n",
       " 1.7,\n",
       " 1.5900000000000001,\n",
       " 1.8300000000000001,\n",
       " 1.8200000000000001,\n",
       " 1.5,\n",
       " 1.7,\n",
       " 1.72,\n",
       " 1.5800000000000001,\n",
       " 1.9099999999999999,\n",
       " 1.7,\n",
       " 1.77,\n",
       " 1.6399999999999999,\n",
       " 1.8,\n",
       " 2.1299999999999999,\n",
       " 1.6100000000000001,\n",
       " 1.75,\n",
       " 1.75,\n",
       " 1.79,\n",
       " 1.7,\n",
       " 1.4399999999999999,\n",
       " 1.55,\n",
       " 1.78,\n",
       " 1.45,\n",
       " 1.8,\n",
       " 1.74,\n",
       " 1.76,\n",
       " 1.79,\n",
       " 1.6899999999999999,\n",
       " 1.8,\n",
       " 1.53,\n",
       " 1.73,\n",
       " 1.72,\n",
       " 1.55,\n",
       " 1.6699999999999999,\n",
       " 2.0,\n",
       " 1.79,\n",
       " 1.49,\n",
       " 1.53,\n",
       " 1.8600000000000001,\n",
       " 1.45,\n",
       " 1.9199999999999999,\n",
       " 1.5600000000000001,\n",
       " 1.72,\n",
       " 1.7,\n",
       " 1.6899999999999999,\n",
       " 1.79,\n",
       " 2.1299999999999999,\n",
       " 1.96,\n",
       " 1.8600000000000001,\n",
       " 1.3700000000000001,\n",
       " 1.7,\n",
       " 1.8899999999999999,\n",
       " 1.6299999999999999,\n",
       " 2.02,\n",
       " 1.74,\n",
       " 1.6899999999999999,\n",
       " 1.5700000000000001,\n",
       " 1.6799999999999999,\n",
       " 1.8400000000000001,\n",
       " 1.6799999999999999,\n",
       " 1.5900000000000001,\n",
       " 1.9399999999999999,\n",
       " 1.8500000000000001,\n",
       " 1.6299999999999999,\n",
       " 1.79,\n",
       " 1.6299999999999999,\n",
       " 1.79,\n",
       " 1.5700000000000001,\n",
       " 1.6899999999999999,\n",
       " 1.8600000000000001,\n",
       " 1.4199999999999999,\n",
       " 1.6399999999999999,\n",
       " 1.6399999999999999,\n",
       " 1.5,\n",
       " 1.53,\n",
       " 1.4299999999999999,\n",
       " 1.6000000000000001,\n",
       " 2.0800000000000001,\n",
       " 1.45,\n",
       " 1.7,\n",
       " 1.78,\n",
       " 1.6799999999999999,\n",
       " 1.6399999999999999,\n",
       " 1.99,\n",
       " 1.54,\n",
       " 1.6599999999999999,\n",
       " 1.6100000000000001,\n",
       " 1.6399999999999999,\n",
       " 1.55,\n",
       " 1.5,\n",
       " 1.5800000000000001,\n",
       " 1.45,\n",
       " 1.5600000000000001,\n",
       " 1.78,\n",
       " 1.9299999999999999,\n",
       " 1.8799999999999999,\n",
       " 1.52,\n",
       " 1.3999999999999999,\n",
       " 1.71,\n",
       " 1.6200000000000001,\n",
       " 1.72,\n",
       " 1.79,\n",
       " 1.8400000000000001,\n",
       " 1.95,\n",
       " 1.5700000000000001,\n",
       " 1.6899999999999999,\n",
       " 1.77,\n",
       " 1.8100000000000001,\n",
       " 1.54,\n",
       " 1.76,\n",
       " 1.6499999999999999,\n",
       " 1.8899999999999999,\n",
       " 1.72,\n",
       " 1.3799999999999999,\n",
       " 1.6000000000000001,\n",
       " 1.52,\n",
       " 1.8799999999999999,\n",
       " 1.54,\n",
       " 1.5900000000000001,\n",
       " 1.5700000000000001,\n",
       " 1.6299999999999999,\n",
       " 1.78,\n",
       " 1.6499999999999999,\n",
       " 1.75,\n",
       " 1.8999999999999999,\n",
       " 1.74,\n",
       " 1.73,\n",
       " 1.8700000000000001,\n",
       " 1.7,\n",
       " 1.8899999999999999,\n",
       " 1.53,\n",
       " 1.8100000000000001,\n",
       " 1.54,\n",
       " 1.6499999999999999,\n",
       " 1.9199999999999999,\n",
       " 1.72,\n",
       " 1.99,\n",
       " 1.6499999999999999,\n",
       " 1.6299999999999999,\n",
       " 1.3400000000000001,\n",
       " 1.5700000000000001,\n",
       " 1.6200000000000001,\n",
       " 1.51,\n",
       " 1.55,\n",
       " 1.78,\n",
       " 1.96,\n",
       " 1.73,\n",
       " 1.6299999999999999,\n",
       " 1.75,\n",
       " 1.8,\n",
       " 1.5900000000000001,\n",
       " 1.8999999999999999,\n",
       " 1.8400000000000001,\n",
       " 1.73,\n",
       " 1.8999999999999999,\n",
       " ...]"
      ]
     },
     "execution_count": 193,
     "metadata": {},
     "output_type": "execute_result"
    }
   ],
   "source": [
    "wzrost_lista"
   ]
  },
  {
   "cell_type": "code",
   "execution_count": 194,
   "metadata": {},
   "outputs": [
    {
     "ename": "TypeError",
     "evalue": "unsupported operand type(s) for ** or pow(): 'list' and 'int'",
     "output_type": "error",
     "traceback": [
      "\u001b[0;31m---------------------------------------------------------------------------\u001b[0m",
      "\u001b[0;31mTypeError\u001b[0m                                 Traceback (most recent call last)",
      "\u001b[0;32m<ipython-input-194-32bc7c7af0ba>\u001b[0m in \u001b[0;36m<module>\u001b[0;34m()\u001b[0m\n\u001b[0;32m----> 1\u001b[0;31m \u001b[0mbmi\u001b[0m \u001b[0;34m=\u001b[0m \u001b[0mwaga_lista\u001b[0m \u001b[0;34m/\u001b[0m \u001b[0mwzrost_lista\u001b[0m\u001b[0;34m**\u001b[0m\u001b[0;36m2\u001b[0m\u001b[0;34m\u001b[0m\u001b[0m\n\u001b[0m",
      "\u001b[0;31mTypeError\u001b[0m: unsupported operand type(s) for ** or pow(): 'list' and 'int'"
     ]
    }
   ],
   "source": [
    "bmi = waga_lista / wzrost_lista**2"
   ]
  },
  {
   "cell_type": "code",
   "execution_count": 197,
   "metadata": {
    "collapsed": true
   },
   "outputs": [],
   "source": [
    "xyz = [3, 5, 9]"
   ]
  },
  {
   "cell_type": "code",
   "execution_count": 198,
   "metadata": {
    "collapsed": true
   },
   "outputs": [],
   "source": [
    "xyz2 = np.array([3, 5, 9])"
   ]
  },
  {
   "cell_type": "code",
   "execution_count": 199,
   "metadata": {},
   "outputs": [
    {
     "data": {
      "text/plain": [
       "[3, 5, 9, 3, 5, 9]"
      ]
     },
     "execution_count": 199,
     "metadata": {},
     "output_type": "execute_result"
    }
   ],
   "source": [
    "xyz * 2"
   ]
  },
  {
   "cell_type": "code",
   "execution_count": 200,
   "metadata": {},
   "outputs": [
    {
     "data": {
      "text/plain": [
       "array([ 6, 10, 18])"
      ]
     },
     "execution_count": 200,
     "metadata": {},
     "output_type": "execute_result"
    }
   ],
   "source": [
    "xyz2 * 2"
   ]
  },
  {
   "cell_type": "code",
   "execution_count": 201,
   "metadata": {
    "collapsed": true
   },
   "outputs": [],
   "source": [
    "lista = ['Beata', 5550, True]"
   ]
  },
  {
   "cell_type": "code",
   "execution_count": 202,
   "metadata": {},
   "outputs": [
    {
     "data": {
      "text/plain": [
       "['Beata', 5550, True]"
      ]
     },
     "execution_count": 202,
     "metadata": {},
     "output_type": "execute_result"
    }
   ],
   "source": [
    "lista"
   ]
  },
  {
   "cell_type": "code",
   "execution_count": 203,
   "metadata": {},
   "outputs": [
    {
     "data": {
      "text/plain": [
       "array(['Beata', '5550', 'True'],\n",
       "      dtype='<U5')"
      ]
     },
     "execution_count": 203,
     "metadata": {},
     "output_type": "execute_result"
    }
   ],
   "source": [
    "np.array(lista)"
   ]
  },
  {
   "cell_type": "code",
   "execution_count": 205,
   "metadata": {},
   "outputs": [
    {
     "data": {
      "text/plain": [
       "[62.5,\n",
       " 83.430000000000007,\n",
       " 91.530000000000001,\n",
       " 77.480000000000004,\n",
       " 89.810000000000002,\n",
       " 62.5,\n",
       " 83.430000000000007,\n",
       " 91.530000000000001,\n",
       " 77.480000000000004,\n",
       " 89.810000000000002]"
      ]
     },
     "execution_count": 205,
     "metadata": {},
     "output_type": "execute_result"
    }
   ],
   "source": [
    "waga_lista[:5] + waga_lista[:5]"
   ]
  },
  {
   "cell_type": "code",
   "execution_count": 206,
   "metadata": {},
   "outputs": [
    {
     "ename": "TypeError",
     "evalue": "can only concatenate list (not \"int\") to list",
     "output_type": "error",
     "traceback": [
      "\u001b[0;31m---------------------------------------------------------------------------\u001b[0m",
      "\u001b[0;31mTypeError\u001b[0m                                 Traceback (most recent call last)",
      "\u001b[0;32m<ipython-input-206-55f03fcf7f8c>\u001b[0m in \u001b[0;36m<module>\u001b[0;34m()\u001b[0m\n\u001b[0;32m----> 1\u001b[0;31m \u001b[0mwaga_lista\u001b[0m\u001b[0;34m[\u001b[0m\u001b[0;34m:\u001b[0m\u001b[0;36m5\u001b[0m\u001b[0;34m]\u001b[0m \u001b[0;34m+\u001b[0m \u001b[0;36m10\u001b[0m\u001b[0;34m\u001b[0m\u001b[0m\n\u001b[0m",
      "\u001b[0;31mTypeError\u001b[0m: can only concatenate list (not \"int\") to list"
     ]
    }
   ],
   "source": [
    "waga_lista[:5] + 10"
   ]
  },
  {
   "cell_type": "code",
   "execution_count": 207,
   "metadata": {
    "collapsed": true
   },
   "outputs": [],
   "source": [
    "waga = np.array(waga_lista)"
   ]
  },
  {
   "cell_type": "code",
   "execution_count": 208,
   "metadata": {},
   "outputs": [
    {
     "data": {
      "text/plain": [
       "array([ 62.5 ,  83.43,  91.53, ...,  60.33,  85.4 ,  85.17])"
      ]
     },
     "execution_count": 208,
     "metadata": {},
     "output_type": "execute_result"
    }
   ],
   "source": [
    "waga"
   ]
  },
  {
   "cell_type": "code",
   "execution_count": 209,
   "metadata": {
    "collapsed": true
   },
   "outputs": [],
   "source": [
    "wzrost = np.array(wzrost_lista)"
   ]
  },
  {
   "cell_type": "code",
   "execution_count": 210,
   "metadata": {},
   "outputs": [
    {
     "data": {
      "text/plain": [
       "array([ 1.44,  1.75,  1.87, ...,  1.4 ,  1.78,  1.78])"
      ]
     },
     "execution_count": 210,
     "metadata": {},
     "output_type": "execute_result"
    }
   ],
   "source": [
    "wzrost"
   ]
  },
  {
   "cell_type": "code",
   "execution_count": 212,
   "metadata": {},
   "outputs": [
    {
     "data": {
      "text/plain": [
       "array([ 125.  ,  166.86,  183.06,  154.96,  179.62])"
      ]
     },
     "execution_count": 212,
     "metadata": {},
     "output_type": "execute_result"
    }
   ],
   "source": [
    "waga[:5] + waga[:5]"
   ]
  },
  {
   "cell_type": "code",
   "execution_count": 213,
   "metadata": {},
   "outputs": [
    {
     "data": {
      "text/plain": [
       "array([  72.5 ,   93.43,  101.53,   87.48,   99.81])"
      ]
     },
     "execution_count": 213,
     "metadata": {},
     "output_type": "execute_result"
    }
   ],
   "source": [
    "waga[:5] + 10"
   ]
  },
  {
   "cell_type": "code",
   "execution_count": 215,
   "metadata": {},
   "outputs": [
    {
     "ename": "TypeError",
     "evalue": "'>' not supported between instances of 'list' and 'float'",
     "output_type": "error",
     "traceback": [
      "\u001b[0;31m---------------------------------------------------------------------------\u001b[0m",
      "\u001b[0;31mTypeError\u001b[0m                                 Traceback (most recent call last)",
      "\u001b[0;32m<ipython-input-215-fdc799edbcd9>\u001b[0m in \u001b[0;36m<module>\u001b[0;34m()\u001b[0m\n\u001b[0;32m----> 1\u001b[0;31m \u001b[0mwzrost_lista\u001b[0m \u001b[0;34m>\u001b[0m \u001b[0;36m1.60\u001b[0m\u001b[0;34m\u001b[0m\u001b[0m\n\u001b[0m",
      "\u001b[0;31mTypeError\u001b[0m: '>' not supported between instances of 'list' and 'float'"
     ]
    }
   ],
   "source": [
    "wzrost_lista > 1.60"
   ]
  },
  {
   "cell_type": "code",
   "execution_count": 216,
   "metadata": {},
   "outputs": [
    {
     "data": {
      "text/plain": [
       "array([False,  True,  True, ..., False,  True,  True], dtype=bool)"
      ]
     },
     "execution_count": 216,
     "metadata": {},
     "output_type": "execute_result"
    }
   ],
   "source": [
    "wzrost > 1.60"
   ]
  },
  {
   "cell_type": "code",
   "execution_count": 217,
   "metadata": {},
   "outputs": [
    {
     "data": {
      "text/plain": [
       "array([ 1.44,  1.75,  1.87, ...,  1.4 ,  1.78,  1.78])"
      ]
     },
     "execution_count": 217,
     "metadata": {},
     "output_type": "execute_result"
    }
   ],
   "source": [
    "wzrost"
   ]
  },
  {
   "cell_type": "code",
   "execution_count": 219,
   "metadata": {
    "collapsed": true
   },
   "outputs": [],
   "source": [
    "selekcja = wzrost[wzrost > 1.60]"
   ]
  },
  {
   "cell_type": "code",
   "execution_count": 220,
   "metadata": {},
   "outputs": [
    {
     "data": {
      "text/plain": [
       "73912"
      ]
     },
     "execution_count": 220,
     "metadata": {},
     "output_type": "execute_result"
    }
   ],
   "source": [
    "len(selekcja)"
   ]
  },
  {
   "cell_type": "code",
   "execution_count": 222,
   "metadata": {
    "collapsed": true
   },
   "outputs": [],
   "source": [
    "prezes2 = 1500100900269743657312979853579834656\n",
    "kot = 456763463687463597834296548632874784"
   ]
  },
  {
   "cell_type": "code",
   "execution_count": 223,
   "metadata": {},
   "outputs": [
    {
     "data": {
      "text/plain": [
       "True"
      ]
     },
     "execution_count": 223,
     "metadata": {},
     "output_type": "execute_result"
    }
   ],
   "source": [
    "prezes2 > kot"
   ]
  },
  {
   "cell_type": "code",
   "execution_count": 224,
   "metadata": {
    "collapsed": true
   },
   "outputs": [],
   "source": [
    "selekcja_waga = waga[wzrost > 1.60]"
   ]
  },
  {
   "cell_type": "code",
   "execution_count": 225,
   "metadata": {},
   "outputs": [
    {
     "data": {
      "text/plain": [
       "array([ 83.43,  91.53,  77.48, ...,  77.3 ,  85.4 ,  85.17])"
      ]
     },
     "execution_count": 225,
     "metadata": {},
     "output_type": "execute_result"
    }
   ],
   "source": [
    "selekcja_waga"
   ]
  },
  {
   "cell_type": "code",
   "execution_count": 226,
   "metadata": {},
   "outputs": [
    {
     "data": {
      "text/plain": [
       "73912"
      ]
     },
     "execution_count": 226,
     "metadata": {},
     "output_type": "execute_result"
    }
   ],
   "source": [
    "len(selekcja_waga)"
   ]
  },
  {
   "cell_type": "code",
   "execution_count": 227,
   "metadata": {
    "collapsed": true
   },
   "outputs": [],
   "source": [
    "bmi = waga / wzrost**2"
   ]
  },
  {
   "cell_type": "code",
   "execution_count": 228,
   "metadata": {},
   "outputs": [
    {
     "data": {
      "text/plain": [
       "array([ 30.1408179 ,  27.24244898,  26.1746118 , ...,  30.78061224,\n",
       "        26.95366747,  26.88107562])"
      ]
     },
     "execution_count": 228,
     "metadata": {},
     "output_type": "execute_result"
    }
   ],
   "source": [
    "bmi"
   ]
  },
  {
   "cell_type": "code",
   "execution_count": 235,
   "metadata": {
    "collapsed": true
   },
   "outputs": [],
   "source": [
    "jak_oni_zyja = bmi >= 30"
   ]
  },
  {
   "cell_type": "code",
   "execution_count": 236,
   "metadata": {},
   "outputs": [
    {
     "data": {
      "text/plain": [
       "array([ True, False, False, ...,  True, False, False], dtype=bool)"
      ]
     },
     "execution_count": 236,
     "metadata": {},
     "output_type": "execute_result"
    }
   ],
   "source": [
    "jak_oni_zyja"
   ]
  },
  {
   "cell_type": "code",
   "execution_count": 238,
   "metadata": {},
   "outputs": [
    {
     "data": {
      "text/plain": [
       "array([ 1.44,  1.45,  1.44, ...,  1.44,  1.37,  1.4 ])"
      ]
     },
     "execution_count": 238,
     "metadata": {},
     "output_type": "execute_result"
    }
   ],
   "source": [
    "wzrost[jak_oni_zyja]"
   ]
  },
  {
   "cell_type": "code",
   "execution_count": 239,
   "metadata": {},
   "outputs": [
    {
     "data": {
      "text/plain": [
       "array([ 1.44,  1.45,  1.44, ...,  1.44,  1.37,  1.4 ])"
      ]
     },
     "execution_count": 239,
     "metadata": {},
     "output_type": "execute_result"
    }
   ],
   "source": [
    "wzrost[bmi >= 30]"
   ]
  },
  {
   "cell_type": "code",
   "execution_count": null,
   "metadata": {
    "collapsed": true
   },
   "outputs": [],
   "source": [
    "wzrost >= 1.60\n",
    "wzrost <= 1.80"
   ]
  },
  {
   "cell_type": "code",
   "execution_count": 241,
   "metadata": {
    "collapsed": true
   },
   "outputs": [],
   "source": [
    "bmi_sredniacy = bmi[(wzrost >= 1.60) & (wzrost <= 1.80)]"
   ]
  },
  {
   "cell_type": "code",
   "execution_count": 242,
   "metadata": {},
   "outputs": [
    {
     "data": {
      "text/plain": [
       "array([ 27.24244898,  28.11728843,  26.87160712, ...,  28.0519669 ,\n",
       "        26.95366747,  26.88107562])"
      ]
     },
     "execution_count": 242,
     "metadata": {},
     "output_type": "execute_result"
    }
   ],
   "source": [
    "bmi_sredniacy"
   ]
  },
  {
   "cell_type": "code",
   "execution_count": 245,
   "metadata": {
    "collapsed": true
   },
   "outputs": [],
   "source": [
    "bmi_sredniacy = bmi_sredniacy.round(1)"
   ]
  },
  {
   "cell_type": "code",
   "execution_count": 246,
   "metadata": {},
   "outputs": [
    {
     "data": {
      "text/plain": [
       "array([ 27.2,  28.1,  26.9, ...,  28.1,  27. ,  26.9])"
      ]
     },
     "execution_count": 246,
     "metadata": {},
     "output_type": "execute_result"
    }
   ],
   "source": [
    "bmi_sredniacy"
   ]
  },
  {
   "cell_type": "code",
   "execution_count": null,
   "metadata": {
    "collapsed": true
   },
   "outputs": [],
   "source": []
  }
 ],
 "metadata": {
  "kernelspec": {
   "display_name": "Python 3",
   "language": "python",
   "name": "python3"
  },
  "language_info": {
   "codemirror_mode": {
    "name": "ipython",
    "version": 3
   },
   "file_extension": ".py",
   "mimetype": "text/x-python",
   "name": "python",
   "nbconvert_exporter": "python",
   "pygments_lexer": "ipython3",
   "version": "3.6.1"
  }
 },
 "nbformat": 4,
 "nbformat_minor": 2
}
